{
  "nbformat": 4,
  "nbformat_minor": 0,
  "metadata": {
    "colab": {
      "provenance": [],
      "authorship_tag": "ABX9TyOyFwdcvaQFr80IVgzT5o/0",
      "include_colab_link": true
    },
    "kernelspec": {
      "name": "python3",
      "display_name": "Python 3"
    },
    "language_info": {
      "name": "python"
    }
  },
  "cells": [
    {
      "cell_type": "markdown",
      "metadata": {
        "id": "view-in-github",
        "colab_type": "text"
      },
      "source": [
        "<a href=\"https://colab.research.google.com/github/ShotaSasaki-HCU/Prog2kakushin/blob/main/work3.ipynb\" target=\"_parent\"><img src=\"https://colab.research.google.com/assets/colab-badge.svg\" alt=\"Open In Colab\"/></a>"
      ]
    },
    {
      "cell_type": "code",
      "execution_count": 21,
      "metadata": {
        "id": "3c8-ZPRQFRXq",
        "outputId": "a44ac433-7969-4ab1-9496-66e959f0a954",
        "colab": {
          "base_uri": "https://localhost:8080/",
          "height": 535
        }
      },
      "outputs": [
        {
          "output_type": "stream",
          "name": "stdout",
          "text": [
            "['間', '問']\n"
          ]
        },
        {
          "output_type": "display_data",
          "data": {
            "text/plain": [
              "<PIL.Image.Image image mode=RGB size=500x500>"
            ],
            "image/png": "[encoded data removed]"
          },
          "metadata": {}
        }
      ],
      "source": [
        "import numpy as np\n",
        "import cv2\n",
        "from PIL import ImageFont, ImageDraw, Image\n",
        "import sys\n",
        "from google.colab.patches import cv2_imshow\n",
        "from google.colab import output # 出力画面クリア用\n",
        "import random\n",
        "\n",
        "# OpenCVで日本語表示を実現する関数\n",
        "def putText_japanese(img, text, point, size, color):\n",
        "  # Noto Sans Japaneseフォントを使用する。\n",
        "  # GitHubがttfファイルを認識しておらずRAWリンクが取得できないため、直接参照はできない。\n",
        "  # そこで、!wgetを用いてGitHub上から、仮想マシンのローカルファイルにttfファイルをダウンロードする。\n",
        "  !wget \"https://github.com/ShotaSasaki-HCU/Prog2kakushin/raw/main/NotoSansJP-VariableFont_wght.ttf\"\n",
        "  output.clear() # !wgetでたくさん出力される文字列をクリア\n",
        "  font = ImageFont.truetype('NotoSansJP-VariableFont_wght.ttf', size)\n",
        "\n",
        "  # imgをndarrayから、PILに変換する。\n",
        "  img_pil = Image.fromarray(img)\n",
        "  # drawインスタンス生成\n",
        "  draw = ImageDraw.Draw(img_pil)\n",
        "  # テキスト描写\n",
        "  # pointは、文字列の左上の位置である。\n",
        "  draw.text(point, text, fill=color, font=font)\n",
        "\n",
        "  # PILから、ndarrayに変換して返す。\n",
        "  return np.array(img_pil)\n",
        "\n",
        "# 似ている文字のペア\n",
        "pairs = [['間', '問'], ['璧', '壁'], ['島', '鳥']]\n",
        "pair = random.choice(pairs)\n",
        "\n",
        "# 黒い画像を用意\n",
        "img = np.zeros((500, 500, 3), np.uint8)\n",
        "\n",
        "img = putText_japanese(img, \"問問問問問\", (0, 0), 50, (25, 131, 255))\n",
        "\n",
        "cv2_imshow(img)"
      ]
    }
  ]
}