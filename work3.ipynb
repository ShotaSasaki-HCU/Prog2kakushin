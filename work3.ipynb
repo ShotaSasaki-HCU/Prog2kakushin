{
  "nbformat": 4,
  "nbformat_minor": 0,
  "metadata": {
    "colab": {
      "provenance": [],
      "authorship_tag": "ABX9TyOPilwExDARgAiYH9fIzuro",
      "include_colab_link": true
    },
    "kernelspec": {
      "name": "python3",
      "display_name": "Python 3"
    },
    "language_info": {
      "name": "python"
    }
  },
  "cells": [
    {
      "cell_type": "markdown",
      "metadata": {
        "id": "view-in-github",
        "colab_type": "text"
      },
      "source": [
        "<a href=\"https://colab.research.google.com/github/ShotaSasaki-HCU/Prog2kakushin/blob/main/work3.ipynb\" target=\"_parent\"><img src=\"https://colab.research.google.com/assets/colab-badge.svg\" alt=\"Open In Colab\"/></a>"
      ]
    },
    {
      "cell_type": "code",
      "execution_count": 28,
      "metadata": {
        "id": "3c8-ZPRQFRXq",
        "outputId": "efa0da98-3cbe-4a5d-bd6d-c3d444946b8d",
        "colab": {
          "base_uri": "https://localhost:8080/",
          "height": 849
        }
      },
      "outputs": [
        {
          "output_type": "stream",
          "name": "stdout",
          "text": [
            "たくさん漢字が並んでいる画像の中から仲間はずれを探しましょう。\n",
            "仲間はずれを見つけたら、\n",
            "・上から何行目？\n",
            "・左から何列目？\n",
            "の問いに答えましょう。\n",
            "正解すると、正解までにかかった時間が表示されます。\n",
            "それでは始めます。画像が表示されたらスタートです。\n"
          ]
        },
        {
          "output_type": "display_data",
          "data": {
            "text/plain": [
              "<PIL.Image.Image image mode=RGB size=600x600>"
            ],
            "image/png": "[encoded data removed]"
          },
          "metadata": {}
        },
        {
          "output_type": "stream",
          "name": "stdout",
          "text": [
            "上から何行目？：10\n",
            "左から何列目？：1\n",
            "正解！\n",
            "--------------------\n",
            "あなたの記録：31.202357秒\n",
            "開発者の記録：None\n"
          ]
        }
      ],
      "source": [
        "import numpy as np\n",
        "import cv2\n",
        "from PIL import ImageFont, ImageDraw, Image\n",
        "import sys\n",
        "from google.colab.patches import cv2_imshow\n",
        "from google.colab import output # 出力画面クリア用\n",
        "import random\n",
        "from datetime import datetime\n",
        "import time\n",
        "\n",
        "# Noto Sans Japaneseフォントを使用する。\n",
        "# GitHubがttfファイルを認識しておらずRAWリンクが取得できないため、直接参照はできない。\n",
        "# そこで、!wgetを用いてGitHub上から、仮想マシンのローカルファイルにttfファイルをダウンロードする。\n",
        "!wget \"https://github.com/ShotaSasaki-HCU/Prog2kakushin/raw/main/NotoSansJP-VariableFont_wght.ttf\"\n",
        "output.clear() # !wgetでたくさん出力される文字列をクリア\n",
        "\n",
        "# OpenCVで日本語表示を実現する関数\n",
        "def putText_japanese(img, text, point, size, color):\n",
        "  # Noto Sans Japaneseフォントを使用する。\n",
        "  font = ImageFont.truetype('NotoSansJP-VariableFont_wght.ttf', size)\n",
        "\n",
        "  # imgをndarrayから、PILに変換する。\n",
        "  img_pil = Image.fromarray(img)\n",
        "  # drawインスタンス生成\n",
        "  draw = ImageDraw.Draw(img_pil)\n",
        "  # テキスト描写\n",
        "  # pointは、文字列の左上の位置である。\n",
        "  draw.text(point, text, fill=color, font=font)\n",
        "\n",
        "  # PILから、ndarrayに変換して返す。\n",
        "  return np.array(img_pil)\n",
        "\n",
        "# 似ている文字のペア\n",
        "pairs = [['間', '問', '9.897239秒'],\n",
        "         ['璧', '壁', '16.674947秒'],\n",
        "         ['島', '鳥', '11.669941秒'],\n",
        "         ['追', '迫', '32.339228秒'],\n",
        "         ['陳', '陣', '44.975076秒'],\n",
        "         ['賃', '貸', '13.524156秒'],\n",
        "         ['輸', '輪', '50.18809秒'],\n",
        "         ['且', '旦', '22.58064秒'],\n",
        "         ['千', '干', '53.932861秒'],\n",
        "         ['凜', '凛', '31.202357秒']]\n",
        "pair = random.choice(pairs)\n",
        "\n",
        "# 黒い画像を用意\n",
        "img = np.zeros((600, 600, 3), np.uint8)\n",
        "\n",
        "fake_row = random.randint(1, 12) # 仲間はずれの行\n",
        "fake_column = random.randint(1, 15) # 仲間はずれの列\n",
        "for row in range(0, 11+1):\n",
        "  if (row + 1) == fake_row:\n",
        "    string = pair[0]*(fake_column-1) + pair[1] + pair[0]*(15-fake_column)\n",
        "  else:\n",
        "    string = pair[0] * 15\n",
        "\n",
        "  img = putText_japanese(img, string , (0, (50*row)-7), 40, (255, 255, 255))\n",
        "\n",
        "print(\"たくさん漢字が並んでいる画像の中から仲間はずれを探しましょう。\")\n",
        "time.sleep(4)\n",
        "print(\"仲間はずれを見つけたら、\\n・上から何行目？\\n・左から何列目？\\nの問いに答えましょう。\")\n",
        "time.sleep(4)\n",
        "print(\"正解すると、正解までにかかった時間が表示されます。\")\n",
        "time.sleep(4)\n",
        "print(\"それでは始めます。画像が表示されたらスタートです。\")\n",
        "time.sleep(4)\n",
        "\n",
        "cv2_imshow(img)\n",
        "start = datetime.now() # 開始時刻を取得\n",
        "\n",
        "# Google Colabの環境では、cv2_imshowで画像を表示する前に次の処理を行なってしまうことがある。\n",
        "# なので、記録計測に影響しない程度に適当な時間だけ待つ。\n",
        "time.sleep(0.5)\n",
        "\n",
        "while True:\n",
        "  user_row = int(input('上から何行目？：'))\n",
        "  user_column = int(input('左から何列目？：'))\n",
        "  if (user_row == fake_row) and (user_column == fake_column):\n",
        "    print('正解！\\n--------------------')\n",
        "    break\n",
        "  else:\n",
        "    print('不正解！\\n--------------------')\n",
        "\n",
        "end = datetime.now() # 終了時刻を取得\n",
        "dif = end - start # 差分を計算\n",
        "\n",
        "print(\"あなたの記録：\" + str(dif.seconds) + '.' + str(dif.microseconds) + '秒')\n",
        "print(\"開発者の記録：\" + pair[2])"
      ]
    }
  ]
}