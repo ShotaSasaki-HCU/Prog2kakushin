{
  "nbformat": 4,
  "nbformat_minor": 0,
  "metadata": {
    "colab": {
      "provenance": [],
      "authorship_tag": "ABX9TyM45z8Nt1tCH2yi3ZyrVBwL",
      "include_colab_link": true
    },
    "kernelspec": {
      "name": "python3",
      "display_name": "Python 3"
    },
    "language_info": {
      "name": "python"
    }
  },
  "cells": [
    {
      "cell_type": "markdown",
      "metadata": {
        "id": "view-in-github",
        "colab_type": "text"
      },
      "source": [
        "<a href=\"https://colab.research.google.com/github/ShotaSasaki-HCU/Prog2kakushin/blob/main/work1.ipynb\" target=\"_parent\"><img src=\"https://colab.research.google.com/assets/colab-badge.svg\" alt=\"Open In Colab\"/></a>"
      ]
    },
    {
      "cell_type": "code",
      "execution_count": 110,
      "metadata": {
        "id": "2gD_sJ1BEjIO",
        "colab": {
          "base_uri": "https://localhost:8080/",
          "height": 700
        },
        "outputId": "570c5d87-7b11-4d4a-927b-a88adaf102b2"
      },
      "outputs": [
        {
          "name": "stdout",
          "output_type": "stream",
          "text": [
            "【2020年4月1日〜2022年3月11日のNetflixランキング分析】\n",
            "1. トップ10入り合計日数ランキング\n",
            "2. 最大連続トップ10入り日数ランキング\n",
            "3. リリース日からの日数と10タイトル中の順位の相関\n",
            "-----------------------------------------------------------\n",
            "選択肢の番号を入力：3\n"
          ]
        },
        {
          "output_type": "display_data",
          "data": {
            "text/plain": [
              "<Figure size 640x480 with 1 Axes>"
            ],
            "image/png": "[encoded data removed]"
          },
          "metadata": {}
        },
        {
          "output_type": "stream",
          "name": "stdout",
          "text": [
            "          As of  Rank Year to Date Rank Last Week Rank     Title   Type  \\\n",
            "683  2020-06-08     4                 -              -  365 Days  Movie   \n",
            "\n",
            "    Netflix Exclusive Netflix Release Date  Days In Top 10  Viewership Score  \\\n",
            "683               Yes           2020-07-07               1                 7   \n",
            "\n",
            "     date_diff  \n",
            "683        -29  \n"
          ]
        }
      ],
      "source": [
        "# Pandas\n",
        "# output.clear() # 出力画面をクリアする。\n",
        "\n",
        "import pandas as pd\n",
        "from google.colab import output # 出力画面クリア用\n",
        "import datetime\n",
        "from matplotlib import pyplot as plt\n",
        "\n",
        "# header=0として、csvの１行目は列名と指定する。\n",
        "df = pd.read_csv('https://raw.githubusercontent.com/ShotaSasaki-HCU/Prog2kakushin/main/netflix%20daily%20top%2010.csv', header=0)\n",
        "\n",
        "separate = '-----------------------------------------------------------' # 区切り横線\n",
        "functions = [\"トップ10入り合計日数ランキング\", \"最大連続トップ10入り日数ランキング\", \"リリース日からの日数と10タイトル中の順位の相関\"] # 機能一覧を格納するリストfunctions\n",
        "error_enable = False # 選択肢範囲外をユーザが選択したとき用のフラグ\n",
        "while True:\n",
        "  output.clear() # 選択肢範囲外を選択し、戻ってきた場合のため出力画面をクリアする。\n",
        "  print(\"【2020年4月1日〜2022年3月11日のNetflixランキング分析】\")\n",
        "  for i, function in enumerate(functions): # リストfunctionsを箇条書きで列挙する。\n",
        "    print(str(i+1) + '.', function)\n",
        "  if error_enable:\n",
        "    print(\"[エラー]1~\" + str(len(functions)) + \"の範囲で入力してください。\")\n",
        "  select = int(input(separate + \"\\n選択肢の番号を入力：\"))\n",
        "  if not(1 <= select <= len(functions)): # 選択肢範囲外をユーザが指定したらwhile文の先頭まで戻る。\n",
        "    error_enable = True\n",
        "    continue\n",
        "  error_enable = False\n",
        "\n",
        "  # 1. トップ10入り合計日数ランキング\n",
        "  if select == 1:\n",
        "    df_title = df['Title'].value_counts(sort=True) # ユニークな要素のそれぞれの出現回数を得る。（降順）\n",
        "    while True: # ユーザインターフェース\n",
        "      output.clear() # 画面遷移のため、出力画面をクリアする。\n",
        "      print(\"【1. トップ10入り合計日数ランキング】\")\n",
        "      if error_enable:\n",
        "        print(\"[エラー]1~\" + str(len(df_title)) + \"の範囲で入力してください。\")\n",
        "      limit = int(input(\"上位何位(1~\" + str(len(df_title)) + \")まで表示しますか？：\"))\n",
        "      if not(1 <= limit <= len(df_title)): # 選択肢範囲外をユーザが指定したらwhile文の先頭まで戻る。\n",
        "        error_enable = True\n",
        "        continue\n",
        "      error_enable = False\n",
        "      break\n",
        "    titles = df_title[0:limit].index.values # 出現回数が格納されたSeriesの行名（作品タイトル）をリスト化\n",
        "    print('   ' + 'Title'.center(30) + ':\\t出現日数（／' + str(int(len(df)/10)) + '日）\\n' + separate)\n",
        "    for i in range(len(titles)):\n",
        "      print(str(i+1) + '. ' + titles[i].center(30) + ':\\t' + str(df_title[0:limit][i]).center(16))\n",
        "\n",
        "  # 2. 最大連続トップ10入り日数ランキング\n",
        "  elif select == 2:\n",
        "    titles = list(df['Title'].unique()) # 作品タイトルの列を重複無しで抽出してリスト化する。\n",
        "    in_a_row_temp = dict(zip(titles, [0]*len(titles))) # 暫定的な連続日数の辞書（キーはタイトル・値は日数）\n",
        "    in_a_row_final = dict(zip(titles, [0]*len(titles))) # 最大連続日数の辞書（キーはタイトル・値は日数）\n",
        "\n",
        "    top10_yesterday = list(df['Title'][0:10]) # 前の日付の10タイトルを格納するリスト\n",
        "    for i in range(10, len(df), 10): # 1日ずつ見ていく。\n",
        "      top10_today = list(df['Title'][i:i+10]) # 現在の日付の10タイトルをリストにする。\n",
        "      for title_yesterday in top10_yesterday: # 前の日付のタイトルが、\n",
        "        if title_yesterday in top10_today: # 現在の日付の10タイトルに残っていたら、\n",
        "          in_a_row_temp[title_yesterday] += 1 # それを連続として加算する。\n",
        "        else: # 前の日付のタイトルが、現在の日付の10タイトルに残っていなかったら、\n",
        "          if in_a_row_temp[title_yesterday] > in_a_row_final[title_yesterday]: # 暫定的な連続日数が、今までの連続日数を超えていたら、\n",
        "            in_a_row_final[title_yesterday] = in_a_row_temp[title_yesterday] # 最大連続日数を、暫定的だった連続日数で書き換える。\n",
        "          in_a_row_temp[title_yesterday] = 0 # 連続が途切れたので、暫定的な連続日数をリセットする。\n",
        "      top10_yesterday = top10_today # 現在の日付の処理が終わったら、現在のタイトルを前のタイトルとして記録する。\n",
        "    in_a_row_final_sorted = sorted(in_a_row_final.items(), key=lambda v: v[1], reverse=True) # 最大連続日数について降順でソート\n",
        "\n",
        "    while True: # ユーザインターフェース\n",
        "      output.clear() # 画面遷移のため、出力画面をクリアする。\n",
        "      print(\"【2. 最大連続トップ10入り日数ランキング】\")\n",
        "      if error_enable:\n",
        "        print(\"[エラー]1~\" + str(len(in_a_row_final_sorted)) + \"の範囲で入力してください。\")\n",
        "      limit = int(input(\"上位何位(1~\" + str(len(in_a_row_final_sorted)) + \")まで表示しますか？：\"))\n",
        "      if not(1 <= limit <= len(in_a_row_final_sorted)): # 選択肢範囲外をユーザが指定したらwhile文の先頭まで戻る。\n",
        "        error_enable = True\n",
        "        continue\n",
        "      error_enable = False\n",
        "      break\n",
        "    print('   ' + 'Title'.center(30) + ':\\t最大連続日数\\n' + separate)\n",
        "    for i in range(limit):\n",
        "      print(str(i+1) + '. ' + in_a_row_final_sorted[i][0].center(30) + ':\\t' + str(in_a_row_final_sorted[i][1]).center(11))\n",
        "\n",
        "  # 3. リリース日からの日数と10タイトル中の順位の相関\n",
        "  elif select == 3:\n",
        "    # トップ10入りの日時をdatetime型に変換する。\n",
        "    df['As of'] = pd.to_datetime(df['As of']).dt.date\n",
        "    # 作品のリリース日時をdatetime型に変換する。\n",
        "    abbre_dict = {'Jan':1, 'Feb':2, 'Mar':3, 'Apr':4, 'May':5, 'Jun':6, 'Jul':7, 'Aug':8, 'Sep':9, 'Oct':10, 'Nov':11, 'Dec':12} # 月の略を数字に変換するための辞書\n",
        "    for key, value in abbre_dict.items():\n",
        "      df['Netflix Release Date'] = df['Netflix Release Date'].replace(key, str(value), regex=True)\n",
        "    df['Netflix Release Date'] = pd.to_datetime(df['Netflix Release Date'], format='%m %d, %Y').dt.date\n",
        "\n",
        "    df['date_diff'] = (df['As of'] - df['Netflix Release Date'])\n",
        "    df['date_diff'] = df['date_diff'].dt.days\n",
        "\n",
        "    plt.scatter(df['date_diff'], df['Rank'], s=5)\n",
        "    plt.show()\n",
        "\n",
        "    # print(df.sort_values('date_diff'))\n",
        "    print(df[683:684])\n",
        "\n",
        "  break"
      ]
    }
  ]
}