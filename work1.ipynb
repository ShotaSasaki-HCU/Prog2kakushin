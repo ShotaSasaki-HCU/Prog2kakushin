{
  "nbformat": 4,
  "nbformat_minor": 0,
  "metadata": {
    "colab": {
      "provenance": [],
      "authorship_tag": "ABX9TyPw+8OX60VtdsKcv+df13fg",
      "include_colab_link": true
    },
    "kernelspec": {
      "name": "python3",
      "display_name": "Python 3"
    },
    "language_info": {
      "name": "python"
    }
  },
  "cells": [
    {
      "cell_type": "markdown",
      "metadata": {
        "id": "view-in-github",
        "colab_type": "text"
      },
      "source": [
        "<a href=\"https://colab.research.google.com/github/ShotaSasaki-HCU/Prog2kakushin/blob/main/work1.ipynb\" target=\"_parent\"><img src=\"https://colab.research.google.com/assets/colab-badge.svg\" alt=\"Open In Colab\"/></a>"
      ]
    },
    {
      "cell_type": "code",
      "execution_count": 56,
      "metadata": {
        "id": "2gD_sJ1BEjIO",
        "colab": {
          "base_uri": "https://localhost:8080/"
        },
        "outputId": "4189e05e-7503-4467-c7e0-5c2c13f27585"
      },
      "outputs": [
        {
          "output_type": "stream",
          "name": "stdout",
          "text": [
            "[('Cocomelon', 103), ('The Queenâ\\x80\\x99s Gambit', 61), ('Bridgerton', 57), ('Manifest', 53), ('Squid Game', 49), ('Ozark', 44), ('Outer Banks', 38), ('iCarly', 38), ('The Witcher', 38), ('All American', 37), ('The Queen of Flow', 36), ('Maid', 34), ('You', 34), ('Avatar: The Last Airbender', 33), ('The Umbrella Academy', 33), ('Cobra Kai', 32), ('Ginny & Georgia', 30), ('The Mitchells vs. The Machines', 30), ('Clickbait', 29), ('All of Us Are Dead', 28), ('365 Days', 27), ('Virgin River', 27), ('Tiger King: Murder, Mayhem …', 26), ('Emily in Paris', 26), ('Firefly Lane', 26), ('Vivo', 26), ('Sweet Magnolias', 25), ('Shameless', 25), ('Ratched', 25), ('The Haunting of Bly Manor', 25), ('The Crown', 25), ('Behind Her Eyes', 25), ('Who Killed Sara?', 25), ('Sweet Tooth', 25), ('Donâ\\x80\\x99t Look Up', 25), ('Dead to Me', 24), ('Space Force', 24), ('The Circle US', 24), ('Illumination Presents The G…', 23), ('How the Grinch Stole Christmas', 23), ('We Can Be Heroes', 23), ('Sex/Life', 23), ('Riverdale', 21), ('13 Reasons Why', 21), ('Floor is Lava', 21), ('Unsolved Mysteries', 21), ('The Last Dance', 21), ('Lost in Space', 21), ('Jeffrey Epstein: Filthy Rich', 20), ('Lucifer', 20), ('Shadow and Bone', 20), ('Wish Dragon', 20), ('The Unforgivable', 20), ('Away', 19), ('Schittâ\\x80\\x99s Creek', 19), ('Jupiterâ\\x80\\x99s Legacy', 19), ('Home', 19), ('Stay Close', 19), ('StartUp', 18), ('Narcos: Mexico', 18), ('Red Notice', 18), ('Archive 81', 18), ('Despicable Me 2', 18), ('Down to Earth with Zac Efron', 17), ('Nicky, Ricky, Dicky & Dawn', 17), ('Fatherhood', 17), ('Too Hot to Handle', 16), ('Warrior Nun', 16), ('Dr. Seussâ\\x80\\x99 The Lorax', 16), ('Cursed', 16), ('Project Power', 16), ('Evil', 16), ('Good Girls', 16), ('Army of the Dead', 16), ('True Story', 16), ('Money Heist', 15), ('Selling Sunset', 15), ('Night Stalker: The Hunt for…', 15), ('Crime Scene: The Vanishing …', 15), ('The Baker and the Beauty', 15), ('The Upshaws', 15), ('Turning Point: 9/11 and the…', 15), ('Cheer', 15), ('The Order', 14), ('American Murder: The Family…', 14), ('Hubie Halloween', 14), ('Manhunt: Deadly Games', 14), ('Go, Dog, Go', 14), ('Yes Day', 14), ('Midnight Mass', 14), ('Back to the Outback', 14), ('Raising Dion', 14), ('The Tinder Swindler', 14), ('Waco', 13), ('Never Have I Ever', 13), ('The Wrong Missy', 13), ('The Baby-Sitters Club', 13), ('The Legend of Korra', 13), ('Lupin', 13), ('Henry Danger', 13), ('Fate: The Winx Saga', 13), ('The Serpent', 13), ('Dog Gone Trouble', 13), ('The Twilight Saga: Breaking…', 13), ('Cocaine Cowboys: The Kings …', 13), ('Hit & Run', 13), ('Locke & Key', 13), ('The Harder They Fall', 13), ('The Woman in the House Acro…', 13), ('Hollywood', 12), ('The Flash', 12), ('Mr. Peabody & Sherman', 12), ('The Social Dilemma', 12), ('Jurassic World: Camp Cretac…', 12), ('Over the Moon', 12), ('Holidate', 12), ('Big Mouth', 12), (\"L.A.'s Finest\", 12), ('The Sinner', 12), ('I Care a Lot.', 12), ('The One', 12), ('Thunder Force', 12), ('The Ice Road', 12), ('Fear Street Part 1: 1994', 12), ('Kate', 12), ('Dave Chappelle: The Closer', 12), ('Love Hard', 12), ('Angel Has Fallen', 11), ('Extraction', 11), ('Queer Eye', 11), ('Feel the Beat', 11), ('The Old Guard', 11), ('The Kissing Booth 2', 11), ('Worldâ\\x80\\x99s Most Wanted', 11), ('The Seven Deadly Sins', 11), ('The Smurfs 2', 11), ('Enola Holmes', 11), ('The Christmas Chronicles 2', 11), ('Jenni Rivera: Mariposa de B…', 11), ('Homefront', 11), (\"Madagascar 3: Europe's Most…\", 11), ('Twilight', 11), ('The Vault', 11), ('Sweet Girl', 11), ('Sharkdog', 11), ('Sex Education', 11), ('My Little Pony: A New Gener…', 11), ('On My Block', 11), ('Cowboy Bebop', 11), ('In From the Cold', 11), ('The Big Show Show', 10), ('Fuller House', 10), ('The Nut Job', 10), ('Desperados', 10), ('Dark Desire', 10), ('Animal Crackers', 10), ('The Lost Husband', 10), ('The Take', 10), ('Mile 22', 10), ('The Impossible', 10), ('Selena: The Series', 10), ('Ava', 10), ('Operation Varsity Blues', 10), ('The Woman in the Window', 10), ('Dirty John', 10), ('2 Hearts', 10), ('The Guilty', 10), ('Tyler Perryâ\\x80\\x99s A Madea Homec…', 10), ('Nailed It!', 9), ('Despicable Me', 9), ('The Willoughbys', 9), ('The Last Kingdom', 9), ('White Lines', 9), ('Just Go With It', 9), ('Uncut Gems', 9), ('Cloudy with a Chance of Mea…', 9), ('Hoops', 9), ('The Smurfs', 9), ('Sister, Sister', 9), ('Grand Army', 9), ('Barbarians', 9), ('Kevin Hart: Zero F**ks Given', 9), ('The Boss Baby: Back in Busi…', 9), ('Tiny Pretty Things', 9), ('The Midnight Sky', 9), ('Bigfoot Family', 9), ('Murder Among the Mormons', 9), ('Deadly Illusions', 9), ('Concrete Cowboy', 9), ('Top Secret UFO Projects: De…', 9), ('The Loud House Movie', 9), ('The Shack', 9), ('Brazen', 9), ('Home Team', 9), ('The Cuphead Show', 9), ('Love is Blind', 8), ('Code 8', 8), ('Den of Thieves', 8), ('The Town', 8), ('Fear City: New York vs. The…', 8), ('Dennis the Menace', 8), ('Due Date', 8), ('Get Organized with The Home…', 8), ('Pets United', 8), ('Knock Knock', 8), ('After We Collided', 8), ('Chilling Adventures of Sabrina', 8), (\"Gabby's Dollhouse\", 8), ('Outside the Wire', 8), ('The Next Three Days', 8), ('The Dig', 8), ('Finding â\\x80\\x99Ohana', 8), ('The Crew', 8), ('Savages', 8), ('Bad Trip', 8), ('This is a Robbery: The Worl…', 8), ('Dad Stop Embarrassing Me!', 8), ('Synchronic', 8), ('Stowaway', 8), ('Life in Color with David At…', 8), (\"Mother's Day\", 8), ('Heist', 8), ('Blood Red Sky', 8), ('The Kissing Booth 3', 8), ('Grace and Frankie', 8), ('Bake Squad', 8), ('Heâ\\x80\\x99s All That', 8), ('Maya and the Three', 8), ('Army of Thieves', 8), ('21 Jump Street', 8), ('Selling Tampa', 8), ('That Girl Lay Lay', 8), ('Coffee & Kareem', 7), ('#blackAF', 7), ('Dangerous Lies', 7), ('Workinâ\\x80\\x99 Moms', 7), ('John Henry', 7), ('History 101', 7), ('Love', 7), ('Eurovision Song Contest: Th…', 7), ('Patriots Day', 7), ('Fatal Affair', 7), ('Teenage Bounty Hunters', 7), ('Drunk Parents', 7), ('Love, Guaranteed', 7), ('American Pie Presents: Girl…', 7), ('The 100', 7), ('My Next Guest Needs No Intr…', 7), ('Peppermint', 7), ('A California Christmas', 7), ('Death to 2020', 7), ('History of Swear Words', 7), ('Surviving Death', 7), ('Bling Empire', 7), ('The Vanished', 7), ('War Dogs', 7), ('The Dark Knight', 7), ('Last Chance U: Basketball', 7), ('Seaspiracy', 7), ('Secret Magic Control Agency', 7), ('The Irregulars', 7), ('What Lies Below', 7), ('Why Did You Kill Me?', 7), ('The Innocent', 7), ('The Sons of Sam: A Descent …', 7), ('Blue Miracle', 7), ('Ragnarok', 7), ('Awake', 7), ('Black Summer', 7), ('The Worldâ\\x80\\x99s Most Amazing Va…', 7), ('Good on Paper', 7), ('Atypical', 7), ('The Losers', 7), ('Afterlife of the Party', 7), ('Safe House', 7), ('Grown Ups', 7), ('Bruised', 7), ('The Power of the Dog', 7), ('Law Abiding Citizen', 7), ('The Longest Yard', 7), ('The Royal Treatment', 7), ('The Innocence Files', 6), ('Da 5 Bloods', 6), ('F is for Family', 6), ('Lost Bullet', 6), ('Only', 6), ('The Business of Drugs', 6), ('Sugar Rush', 6), ('Work It', 6), ('High Score', 6), ('Million Dollar Beach House', 6), ('Chefâ\\x80\\x99s Table: BBQ', 6), ('The Devil All the Time', 6), ('Real Steel', 6), ('The Good Place', 6), ('Operation Christmas Drop', 6), (\"Chappelle's Show\", 6), ('Dash & Lily', 6), ('Hillbilly Elegy', 6), ('The Ripper', 6), ('17 Again', 6), ('To All the Boys Always and …', 6), ('Age of Samurai: Battle for …', 6), ('Moxie', 6), ('Training Day', 6), ('Parker', 6), ('Friends with Benefits', 6), ('Things Heard & Seen', 6), ('Sabotage', 6), ('Ã\\x89lite', 6), ('The Bureau of Magical Things', 6), ('Fear Street Part 2: 1978', 6), ('The Twilight Saga: New Moon', 6), ('Aftermath', 6), ('Beckett', 6), ('The Chair', 6), ('Bob Ross: Happy Accidents, …', 6), ('SAS: Red Notice', 6), ('Green Lantern', 6), ('Welcome Home Roscoe Jenkins', 6), ('On the Verge', 6), ('An Unfinished Life', 6), ('Intrusion', 6), ('The Starling', 6), ('Titanic', 6), ('Catching Killers', 6), ('Tiger King', 6), ('Hellbound', 6), ('A Boy Called Christmas', 6), ('A Castle for Christmas', 6), ('Life', 6), ('The Silent Sea', 6), ('How to Fix a Drug Scandal', 5), ('Legacies', 5), ('Murder to Mercy: The Cyntoi…', 5), ('All Day and a Night', 5), ('Sleepless', 5), ('Trial by Media', 5), ('Public Enemies', 5), ('The Lovebirds', 5), ('The Help', 5), ('The Last Days of American C…', 5), ('PokÃ©mon Journeys: The Series', 5), ('Alexa & Katie', 5), ('Crazy Delicious', 5), ('The Epic Tales of Captain U…', 5), ('Indian Matchmaking', 5), ('The Kissing Booth', 5), ('Last Chance U', 5), ('Jurassic Park', 5), ('Wizards: Tales of Arcadia', 5), ('(Un)Well', 5), ('The Sleepover', 5), ('The Frozen Ground', 5), ('#Alive', 5), ('The Babysitter: Killer Queen', 5), ('The Blacklist', 5), ('The Outpost', 5), ('Moneyball', 5), ('Rebecca', 5), ('Blood of Zeus', 5), ('Rogue City', 5), ('Easy A', 5), ('Trial 4', 5), ('Jingle Jangle: A Christmas …', 5), ('Survivor', 5), ('The Princess Switch: Switch…', 5), ('Hard Kill', 5), ('Triple 9', 5), ('Unknown', 5), ('Below Zero', 5), ('All About the Benjamins', 5), ('Marriage or Mortgage', 5), ('The Lost Pirate Kingdom', 5), ('Country Comfort', 5), ('Legally Blonde', 5), ('The Little Rascals', 5), ('Love Happens', 5), ('Green Zone', 5), ('Dead Man Down', 5), ('I Am All Girls', 5), ('Love, Death & Robots', 5), ('The Kominsky Method', 5), ('Monsters vs. Aliens', 5), ('Gunpowder Milkshake', 5), ('The Twilight Saga: Eclipse', 5), ('Resort to Love', 5), ('Britney vs Spears', 5), ('The DUFF', 5), ('My Name', 5), ('Night Teeth', 5), ('Inside Job', 5), ('King Arthur: Legend of the …', 5), ('Hypnotic', 5), ('Colin in Black & White', 5), ('School of Chocolate', 5), ('Twentysomethings: Austin', 5), ('A California Christmas: Cit…', 5), ('Crime Scene: The Times Squa…', 5), ('Journey 2: The Mysterious I…', 5), ('Hype House', 5), ('The Colony', 5), ('jeen-yuhs: A Kanye Trilogy', 5), ('Texas Chainsaw Massacre', 5), ('The Weekend Away', 5), ('Unorthodox', 4), ('The Roommate', 4), ('Love Wedding Repeat', 4), ('Django Unchained', 4), ('Jerry Seinfeld: 23 Hours to…', 4), ('Becoming', 4), ('Greyâ\\x80\\x99s Anatomy', 4), ('Have a Good Trip: Adventure…', 4), ('Soul Surfer', 4), ('Athlete A', 4), ('George Lopez: Weâ\\x80\\x99ll Do It f…', 4), ('I Now Pronounce You Chuck a…', 4), ('In the Dark', 4), ('Ip Man 4: The Finale', 4), ('Moesha', 4), ('1BR', 4), ('Bunkâ\\x80\\x99d', 4), ('Cuties', 4), ('Challenger: The Final Flight', 4), ('Bad Teacher', 4), ('Welcome to Sudden Death', 4), ('The Trial of the Chicago 7', 4), ('Secrets of the Saqqara Tomb', 4), ('American Horror Story', 4), ('The Christmas Chronicles', 4), ('Alien Worlds', 4), ('Marauders', 4), ('The Prom', 4), ('Braven', 4), ('30 Minutes or Less', 4), ('Disenchantment', 4), ('Red Dot', 4), ('Tribes of Europa', 4), ('The Last Blockbuster', 4), ('Big Time Rush', 4), ('Sniper: Ghost Shooter', 4), ('Family Reunion', 4), ('Monster', 4), ('Jungle Beat: The Movie', 4), ('Halston', 4), ('Talladega Nights: The Balla…', 4), ('The Last Letter From Your L…', 4), ('Worth', 4), ('Prey', 4), ('Nightbooks', 4), ('Monsters Inside: The 24 Fac…', 4), ('Seinfeld', 4), ('Thereâ\\x80\\x99s Someone Inside Your…', 4), ('The Five Juanas', 4), ('The Forgotten Battle', 4), ('Going in Style', 4), ('Jurassic World Camp Cretaceous', 4), ('The Lost Daughter', 4), ('Absurd Planet', 3), ('Arctic Dogs', 3), ('Magic for Humans', 3), ('The Healer', 3), ('Clueless', 3), ('Queen of the South', 3), ('Magnetic', 3), ('Baby Mama', 3), ('Immigration Nation', 3), ('I Am a Killer Released', 3), ('The Boss Baby: Get That Baby', 3), ('Girlfriends', 3), ('Julie and the Phantoms', 3), ('The American Barbecue Showdown', 3), ('Sneakerheads', 3), ('Wentworth', 3), ('Colombiana', 3), ('Yes, God, Yes', 3), ('His House', 3), ('Chappelleâ\\x80\\x99s Show', 3), ('60 Days In', 3), ('The Beast', 3), ('The 2nd', 3), ('Ma Raineyâ\\x80\\x99s Black Bottom', 3), ('Pieces of a Woman', 3), ('Cut Throat City', 3), ('Malcolm & Marie', 3), ('Squared Love', 3), ('The Conjuring 2', 3), ('Canine Intervention', 3), ('Biggie: I Got A Story to Tell', 3), ('Sentinelle', 3), ('Paradise PD', 3), ('Skylines', 3), ('Jiu Jitsu', 3), ('A Week Away', 3), ('Saving Private Ryan', 3), ('Yasuke', 3), ('Xtreme', 3), ('Sophie: A Murder in West Cork', 3), ('Resident Evil: Infinite Dar…', 3), ('Major Grom: Plague Doctor', 3), ('The Cook of Castamar', 3), ('The Walking Dead', 3), ('Major Payne', 3), ('Untold', 3), ('The Father Who Moves Mountains', 3), ('Arcane', 3), ('The Princess Switch 3: Roma…', 3), ('Peter Rabbit 2', 3), ('Daughter From Another Mother', 3), ('Death to 2021', 3), ('After We Fell', 3), ('Annabelle: Creation', 3), ('I Am Georgina', 3), ('Murderville', 3), ('Tall Girl 2', 3), ('Restless', 3), ('Blood Father', 2), ('The Main Event', 2), ('Chris Dâ\\x80\\x99Elia: No Pain', 2), ('Cooked with Cannabis', 2), ('Coronavirus, Explained', 2), ('Mr. Iglesias', 2), ('Home Game', 2), ('A Thousand Words', 2), ('Zookeeper', 2), ('Malibu Rescue: The Next Wave', 2), ('The Game', 2), ('Rust Valley Restorers', 2), ('Trinkets', 2), ('Yogi Bear', 2), ('Big Daddy', 2), ('The Cabin with Bert Kreischer', 2), ('A Babysitterâ\\x80\\x99s Guide to Mon…', 2), ('Tremors: Shrieker Island', 2), ('Snowden', 2), ('Midnight at the Magnolia', 2), ('Rust Creek', 2), ('Sweet Home', 2), ('The Netflix Afterparty', 2), ('American Me', 2), ('CastleVania', 2), ('The Devil Below', 2), ('Kung Fu Panda', 2), ('Fear Street Part 3: 1666', 2), ('Masters of the Universe: Re…', 2), ('Passing', 2), ('Single All the Way', 2), ('Ink Master', 2), ('The Puppet Master: Hunting …', 2), ('Munich: The Edge of War', 2), ('Transformers: Revenge of th…', 2), ('St. Vincent', 2), ('Battleship', 2), ('The Platform', 1), ('Car Masters: Rust to Riches', 1), ('The Players Club', 1), ('The Hangover', 1), ('The Green Hornet', 1), ('The Half of It', 1), ('How to Get Away with Murder', 1), ('Double Jeopardy', 1), ('Transformers: War for Cyber…', 1), ('Rogue Warfare: The Hunt', 1), ('Latte & the Magic Waterstone', 1), ('Game On: A Comedy Crossover…', 1), ('Glow Up', 1), ('Quantum of Solace', 1), ('Anaconda', 1), ('Puss in Boots', 1), ('Ancient Aliens', 1), ('The Paramedic', 1), ('The Great British Baking Show', 1), ('Dream Home Makeover', 1), ('The Liberator', 1), ('The Life Ahead', 1), ('Hometown Holiday', 1), ('If Anything Happens I Love You', 1), ('Ariana Grande: Excuse Me, I…', 1), ('Klaus', 1), ('The White Tiger', 1), ('Demon Slayer: Kimetsu No Yaiba', 1), ('Octonauts & The Ring of Fire', 1), ('Hasta el cielo', 1), ('Worn Stories', 1), ('White Boy', 1), ('The Stand-In', 1), (\"Kim's Convenience\", 1), ('A Haunted House 2', 1), ('Black Island', 1), ('The Witcher: Nightmare of t…', 1), ('No One Gets Out Alive', 1), ('Replicas', 1), ('The Thundermans', 1), ('Animal', 1), ('Here Comes the Boom', 1), ('Single all the Way', 1), ('Feria: The Darkest Light', 1), ('Can You Keep a Secret?', 1), ('Blackhat', 1), ('Just Like Heaven', 1), ('Against the Ice', 1), ('Badland', 0), ('Uncorked', 0), ('Salt', 0), ('Community', 0), ('Hop', 0), ('House at the End of the Street', 0), ('Hannibal', 0), ('Dark', 0), ('The Office', 0), ('How to Train Your Dragon 2', 0), ('One on One', 0), ('Christmas on the Square', 0), ('The Croods', 0), ('Dare Me: Season 1', 0), ('Rango', 0), ('Dare Me', 0), ('Space Sweepers', 0), ('Are We There Yet?', 0), ('Animals on the Loose: A You…', 0), ('Step Up Revolution', 0), ('The Secret Life of Pets 2', 0), ('The BFG', 0), ('Your Highness', 0), ('Bo Burnham: Inside', 0), ('Trollhunters: Rise of the T…', 0), ('The Defeated', 0), ('American Pie: Reunion', 0), ('Elves', 0), ('Jojoâ\\x80\\x99s Bizarre Adventure', 0), ('Grumpy Christmas', 0), ('WWII in Color: Road to Victory', 0), ('White Christmas', 0), ('Scary Stories to Tell in th…', 0), ('Dark Shadows', 0), ('Chosen', 0), ('The Lucky One', 0), ('Inventing Anna', 0), ('Fistful of Vengeance', 0), ('Vikings: Valhalla', 0), ('Worst Roommate Ever', 0), ('Shrek 2', 0), ('Pieces of Her', 0), ('Shrek', 0), ('Shooter', 0)]\n",
            "【2. 最大連続トップ10入り日数ランキング】\n",
            "上位何位(1~645)まで表示しますか？：3\n",
            "               Title             :\t最大連続日数\n",
            "-----------------------------------------------------------\n",
            "1.           Cocomelon           :\t    103    \n",
            "2.      The Queenâs Gambit     :\t     61    \n",
            "3.           Bridgerton          :\t     57    \n"
          ]
        }
      ],
      "source": [
        "# Pandas\n",
        "# output.clear() # 出力画面をクリアする。\n",
        "\n",
        "import pandas as pd\n",
        "from google.colab import output # 出力画面クリア用\n",
        "import datetime\n",
        "import numpy as np\n",
        "\n",
        "# header=0として、csvの１行目は列名と指定する。\n",
        "df = pd.read_csv('https://raw.githubusercontent.com/ShotaSasaki-HCU/Prog2kakushin/main/netflix%20daily%20top%2010.csv', header=0)\n",
        "\n",
        "separate = '-----------------------------------------------------------' # 区切り横線\n",
        "functions = [\"トップ10入り合計日数ランキング\", \"最大連続トップ10入り日数ランキング\"] # 機能一覧を格納するリストfunctions\n",
        "error_enable = False # 選択肢範囲外をユーザが選択したとき用のフラグ\n",
        "while True:\n",
        "  output.clear() # 選択肢範囲外を選択し、戻ってきた場合のため出力画面をクリアする。\n",
        "  print(\"【2020年4月1日〜2022年3月11日のNetflixランキング分析】\")\n",
        "  for i, function in enumerate(functions): # リストfunctionsを箇条書きで列挙する。\n",
        "    print(str(i+1) + '.', function)\n",
        "  if error_enable:\n",
        "    print(\"[エラー]1~\" + str(len(functions)) + \"の範囲で入力してください。\")\n",
        "  select = int(input(separate + \"\\n選択肢の番号を入力：\"))\n",
        "  if not(1 <= select <= len(functions)): # 選択肢範囲外をユーザが指定したらwhile文の先頭まで戻る。\n",
        "    error_enable = True\n",
        "    continue\n",
        "  error_enable = False\n",
        "\n",
        "  # 1. トップ10入り合計日数ランキング\n",
        "  if select == 1:\n",
        "    df_title = df['Title'].value_counts() # ユニークな要素のそれぞれの出現回数を得る。\n",
        "    while True: # ユーザインターフェース\n",
        "      output.clear() # 画面遷移のため、出力画面をクリアする。\n",
        "      print(\"【1. トップ10入り合計日数ランキング】\")\n",
        "      if error_enable:\n",
        "        print(\"[エラー]1~\" + str(len(df_title)) + \"の範囲で入力してください。\")\n",
        "      limit = int(input(\"上位何位(1~\" + str(len(df_title)) + \")まで表示しますか？：\"))\n",
        "      if not(1 <= limit <= len(df_title)): # 選択肢範囲外をユーザが指定したらwhile文の先頭まで戻る。\n",
        "        error_enable = True\n",
        "        continue\n",
        "      error_enable = False\n",
        "      break\n",
        "    titles = df_title[0:limit].index.values # 出現回数が格納されたSeriesの行名（作品タイトル）をリスト化\n",
        "    print('   ' + 'Title'.center(30) + ':\\t出現日数（／' + str(int(len(df)/10)) + '日）\\n' + separate)\n",
        "    for i in range(len(titles)):\n",
        "      print(str(i+1) + '. ' + titles[i].center(30) + ':\\t' + str(df_title[0:limit][i]).center(16))\n",
        "\n",
        "  # 2. 最大連続トップ10入り日数ランキング\n",
        "  elif select == 2:\n",
        "    titles = list(df['Title'].unique()) # 作品タイトルの列を重複無しで抽出してリスト化する。\n",
        "    in_a_row_temp = dict(zip(titles, [0]*len(titles))) # 暫定的な連続日数の辞書（キーはタイトル・値は日数）\n",
        "    in_a_row_final = dict(zip(titles, [0]*len(titles))) # 最大連続日数の辞書（キーはタイトル・値は日数）\n",
        "\n",
        "    top10_yesterday = list(df['Title'][0:10]) # 前の日付の10タイトルを格納するリスト\n",
        "    for i in range(10, len(df), 10): # 1日ずつ見ていく。\n",
        "      top10_today = list(df['Title'][i:i+10]) # 現在の日付の10タイトルをリストにする。\n",
        "      for title_yesterday in top10_yesterday: # 前の日付のタイトルが、\n",
        "        if title_yesterday in top10_today: # 現在の日付の10タイトルに残っていたら、\n",
        "          in_a_row_temp[title_yesterday] += 1 # それを連続として加算する。\n",
        "        else: # 前の日付のタイトルが、現在の日付の10タイトルに残っていなかったら、\n",
        "          if in_a_row_temp[title_yesterday] > in_a_row_final[title_yesterday]: # 暫定的な連続日数が、今までの連続日数を超えていたら、\n",
        "            in_a_row_final[title_yesterday] = in_a_row_temp[title_yesterday] # 最大連続日数を、暫定的だった連続日数で書き換える。\n",
        "          in_a_row_temp[title_yesterday] = 0 # 連続が途切れたので、暫定的な連続日数をリセットする。\n",
        "      top10_yesterday = top10_today # 現在の日付の処理が終わったら、現在のタイトルを前のタイトルとして記録する。\n",
        "    in_a_row_final_sorted = sorted(in_a_row_final.items(), key=lambda v: v[1], reverse=True)\n",
        "\n",
        "    while True: # ユーザインターフェース\n",
        "      output.clear() # 画面遷移のため、出力画面をクリアする。\n",
        "      print(\"【2. 最大連続トップ10入り日数ランキング】\")\n",
        "      if error_enable:\n",
        "        print(\"[エラー]1~\" + str(len(in_a_row_final_sorted)) + \"の範囲で入力してください。\")\n",
        "      limit = int(input(\"上位何位(1~\" + str(len(in_a_row_final_sorted)) + \")まで表示しますか？：\"))\n",
        "      if not(1 <= limit <= len(in_a_row_final_sorted)): # 選択肢範囲外をユーザが指定したらwhile文の先頭まで戻る。\n",
        "        error_enable = True\n",
        "        continue\n",
        "      error_enable = False\n",
        "      break\n",
        "    print('   ' + 'Title'.center(30) + ':\\t最大連続日数\\n' + separate)\n",
        "    for i in range(limit):\n",
        "      print(str(i+1) + '. ' + in_a_row_final_sorted[i][0].center(30) + ':\\t' + str(in_a_row_final_sorted[i][1]).center(11))\n",
        "\n",
        "  break"
      ]
    }
  ]
}