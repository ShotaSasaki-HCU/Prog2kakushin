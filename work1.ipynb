{
  "nbformat": 4,
  "nbformat_minor": 0,
  "metadata": {
    "colab": {
      "provenance": [],
      "authorship_tag": "ABX9TyPrlJA5zCzFkcb1m+arPpCg",
      "include_colab_link": true
    },
    "kernelspec": {
      "name": "python3",
      "display_name": "Python 3"
    },
    "language_info": {
      "name": "python"
    }
  },
  "cells": [
    {
      "cell_type": "markdown",
      "metadata": {
        "id": "view-in-github",
        "colab_type": "text"
      },
      "source": [
        "<a href=\"https://colab.research.google.com/github/ShotaSasaki-HCU/Prog2kakushin/blob/main/work1.ipynb\" target=\"_parent\"><img src=\"https://colab.research.google.com/assets/colab-badge.svg\" alt=\"Open In Colab\"/></a>"
      ]
    },
    {
      "cell_type": "code",
      "execution_count": 10,
      "metadata": {
        "id": "2gD_sJ1BEjIO",
        "outputId": "b8200b86-d533-4312-eccd-5e8cd215bb90",
        "colab": {
          "base_uri": "https://localhost:8080/"
        }
      },
      "outputs": [
        {
          "output_type": "stream",
          "name": "stdout",
          "text": [
            "\r"
          ]
        }
      ],
      "source": [
        "# Pandas\n",
        "# https://raw.githubusercontent.com/ShotaSasaki-HCU/Prog2kakushin/main/sets.csv\n",
        "\n",
        "import pandas as pd\n",
        "\n",
        "df = pd.read_csv('https://raw.githubusercontent.com/ShotaSasaki-HCU/Prog2kakushin/main/sets.csv')\n",
        "\n",
        "df_year = df.sort_values('num_parts', ascending=False)\n",
        "df_year\n",
        "\n",
        "print('\\r', end='') # 出力画面をクリアする。"
      ]
    }
  ]
}