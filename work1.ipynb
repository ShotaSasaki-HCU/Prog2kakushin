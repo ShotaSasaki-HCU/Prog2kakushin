{
  "nbformat": 4,
  "nbformat_minor": 0,
  "metadata": {
    "colab": {
      "provenance": [],
      "authorship_tag": "ABX9TyNO3dttkaQCuC5eA4vT/uzW",
      "include_colab_link": true
    },
    "kernelspec": {
      "name": "python3",
      "display_name": "Python 3"
    },
    "language_info": {
      "name": "python"
    }
  },
  "cells": [
    {
      "cell_type": "markdown",
      "metadata": {
        "id": "view-in-github",
        "colab_type": "text"
      },
      "source": [
        "<a href=\"https://colab.research.google.com/github/ShotaSasaki-HCU/Prog2kakushin/blob/main/work1.ipynb\" target=\"_parent\"><img src=\"https://colab.research.google.com/assets/colab-badge.svg\" alt=\"Open In Colab\"/></a>"
      ]
    },
    {
      "cell_type": "code",
      "execution_count": 83,
      "metadata": {
        "id": "2gD_sJ1BEjIO",
        "colab": {
          "base_uri": "https://localhost:8080/"
        },
        "outputId": "08f03fcd-a2b9-476e-f88c-19d49ee85769"
      },
      "outputs": [
        {
          "output_type": "stream",
          "name": "stdout",
          "text": [
            "【1. 最も多くトップ10に現れた作品】\n",
            "上位何位(1~645)まで表示しますか？：10\n",
            "              Title              :\t出現日数（／710日）\n",
            "-----------------------------------------------------------\n",
            "1.           Cocomelon           :\t      428       \n",
            "2.             Ozark             :\t       85       \n",
            "3.           Cobra Kai           :\t       81       \n",
            "4.            Manifest           :\t       80       \n",
            "5.      The Queenâs Gambit     :\t       73       \n",
            "6.          Outer Banks          :\t       72       \n",
            "7.           Squid Game          :\t       66       \n",
            "8.          All American         :\t       58       \n",
            "9.           Bridgerton          :\t       58       \n",
            "10.            Lucifer            :\t       56       \n"
          ]
        }
      ],
      "source": [
        "# Pandas\n",
        "# output.clear() # 出力画面をクリアする。\n",
        "\n",
        "import pandas as pd\n",
        "from google.colab import output # 出力画面クリア用\n",
        "\n",
        "df = pd.read_csv('https://raw.githubusercontent.com/ShotaSasaki-HCU/Prog2kakushin/main/netflix%20daily%20top%2010.csv')\n",
        "\n",
        "separate = '-----------------------------------------------------------' # 区切り横線\n",
        "print(\"【2020年4月1日〜2022年3月11日のNetflixランキング分析】\")\n",
        "while True:\n",
        "  print(\"1. 最も多くトップ10に現れた作品\")\n",
        "  select = int(input(separate + \"\\n選択肢の番号を入力：\"))\n",
        "\n",
        "  # 1. 最も多くトップ10に現れた作品\n",
        "  if select == 1:\n",
        "    output.clear() # 出力画面をクリアする。\n",
        "    print(\"【1. 最も多くトップ10に現れた作品】\")\n",
        "    df_title = df['Title'].value_counts() # ユニークな要素のそれぞれの出現回数を得る。\n",
        "    while True:\n",
        "      limit = int(input(\"上位何位(1~\" + str(len(df_title)) + \")まで表示しますか？：\"))\n",
        "      if 1 <= limit <= len(df_title): # 入力がデータの範囲内ならば。\n",
        "        break\n",
        "      else: # 入力がデータの範囲外ならば。\n",
        "        print(\"[エラー]1~\" + str(len(df_title)) + \"の範囲で入力してください。\")\n",
        "    titles = df_title[0:limit].index.values # 出現回数が格納されたSeriesの行名（作品タイトル）をリスト化。\n",
        "    print('Title'.center(33) + ':\\t出現日数（／' + str(int(len(df)/10)) + '日）\\n' + separate)\n",
        "    for i in range(len(titles)):\n",
        "      print(str(i+1) + '. ' + titles[i].center(30) + ':\\t' + str(df_title[0:limit][i]).center(16))\n",
        "\n",
        "  break"
      ]
    }
  ]
}