{
  "nbformat": 4,
  "nbformat_minor": 0,
  "metadata": {
    "colab": {
      "provenance": [],
      "authorship_tag": "ABX9TyP/cn8k+Z3IUTjYnIWu+igu",
      "include_colab_link": true
    },
    "kernelspec": {
      "name": "python3",
      "display_name": "Python 3"
    },
    "language_info": {
      "name": "python"
    }
  },
  "cells": [
    {
      "cell_type": "markdown",
      "metadata": {
        "id": "view-in-github",
        "colab_type": "text"
      },
      "source": [
        "<a href=\"https://colab.research.google.com/github/ShotaSasaki-HCU/Prog2kakushin/blob/main/work1.ipynb\" target=\"_parent\"><img src=\"https://colab.research.google.com/assets/colab-badge.svg\" alt=\"Open In Colab\"/></a>"
      ]
    },
    {
      "cell_type": "code",
      "execution_count": 33,
      "metadata": {
        "id": "2gD_sJ1BEjIO",
        "colab": {
          "base_uri": "https://localhost:8080/"
        },
        "outputId": "ab02c490-4ec7-4998-bf2c-a2b9204e804a"
      },
      "outputs": [
        {
          "output_type": "stream",
          "name": "stdout",
          "text": [
            "【2020年4月1日〜2022年3月11日のNetflixランキング分析】\n",
            "1. トップ10入り合計日数ランキング\n",
            "2. 最大連続トップ10入り日数ランキング\n",
            "-----------------------------------------------------------\n",
            "選択肢の番号を入力：2\n",
            "{'Tiger King: Murder, Mayhem …': 26, 'Ozark': 31, 'All American': 17, 'Blood Father': 2, 'The Platform': 1, 'Car Masters: Rust to Riches': 1, 'Unorthodox': 4, 'Love is Blind': 0, 'Badland': 0, 'Uncorked': 0, 'Nailed It!': 9, 'How to Fix a Drug Scandal': 5, 'The Roommate': 4, 'The Players Club': 1, 'Salt': 0, 'Money Heist': 15, 'Coffee & Kareem': 7, 'Angel Has Fallen': 11, 'The Hangover': 1, 'The Big Show Show': 10, 'Legacies': 5, 'Community': 0, 'Love Wedding Repeat': 4, 'Code 8': 8, 'Hop': 0, 'The Main Event': 2, 'Chris Dâ\\x80\\x99Elia: No Pain': 2, 'The Innocence Files': 6, 'Outer Banks': 38, 'Despicable Me': 9, 'Too Hot to Handle': 13, '#blackAF': 7, 'Waco': 13, 'The Green Hornet': 1, 'Cooked with Cannabis': 2, 'The Willoughbys': 9, 'Absurd Planet': 3, 'Extraction': 11, 'Django Unchained': 4, 'Coronavirus, Explained': 2, 'The Last Kingdom': 9, 'Never Have I Ever': 12, 'Murder to Mercy: The Cyntoi…': 5, 'Dangerous Lies': 7, 'All Day and a Night': 5, 'Hollywood': 12, 'Den of Thieves': 8, 'The Half of It': 1, 'Arctic Dogs': 3, 'Jerry Seinfeld: 23 Hours to…': 4, 'Becoming': 4, 'Workinâ\\x80\\x99 Moms': 5, 'Dead to Me': 24, 'Sleepless': 5, 'John Henry': 7, 'Greyâ\\x80\\x99s Anatomy': 4, 'Have a Good Trip: Adventure…': 4, 'Trial by Media': 5, 'House at the End of the Street': 0, 'The Wrong Missy': 13, 'Riverdale': 21, 'White Lines': 9, 'Public Enemies': 5, 'Magic for Humans': 3, 'Soul Surfer': 4, 'Avatar: The Last Airbender': 0, 'Sweet Magnolias': 18, 'The Flash': 12, 'The Lovebirds': 5, 'Just Go With It': 9, 'History 101': 7, 'Uncut Gems': 9, 'Jeffrey Epstein: Filthy Rich': 0, 'Space Force': 0, 'The Healer': 3, 'Fuller House': 0, 'The Help': 5, 'Clueless': 3, 'Cloudy with a Chance of Mea…': 0, '13 Reasons Why': 0, 'The Last Days of American C…': 0, 'Queer Eye': 0, '365 Days': 0, 'Queen of the South': 0, 'Hannibal': 0, 'Da 5 Bloods': 0, 'PokÃ©mon Journeys: The Series': 0, 'F is for Family': 0, 'Alexa & Katie': 0, 'How to Get Away with Murder': 0, 'Mr. Iglesias': 0, 'The Order': 0, 'Magnetic': 0, 'Floor is Lava': 0, 'Feel the Beat': 0, 'Lost Bullet': 0, 'The Nut Job': 0, 'Baby Mama': 0, 'Love': 0, 'Athlete A': 0, 'Eurovision Song Contest: Th…': 0, 'Crazy Delicious': 0, 'Home Game': 0, 'George Lopez: Weâ\\x80\\x99ll Do It f…': 0, 'Dark': 0, 'Unsolved Mysteries': 0, 'Patriots Day': 0, 'The Town': 0, 'Warrior Nun': 0, 'A Thousand Words': 0, 'The Baby-Sitters Club': 0, 'Desperados': 0, 'I Now Pronounce You Chuck a…': 0, 'Double Jeopardy': 0, 'Only': 0, 'Dr. Seussâ\\x80\\x99 The Lorax': 0, 'The Old Guard': 0, 'The Epic Tales of Captain U…': 0, 'Down to Earth with Zac Efron': 0, 'The Business of Drugs': 0, 'The Office': 0, 'Dark Desire': 0, 'Fatal Affair': 0, 'Cursed': 0, 'The Last Dance': 0, 'Indian Matchmaking': 0, 'In the Dark': 0, 'Fear City: New York vs. The…': 0, 'Ip Man 4: The Finale': 0, 'The Kissing Booth 2': 0, 'Animal Crackers': 0, 'The Kissing Booth': 0, 'Shameless': 0, 'Last Chance U': 0, 'Transformers: War for Cyber…': 0, 'Zookeeper': 0, 'The Umbrella Academy': 0, 'Sugar Rush': 0, 'Moesha': 0, 'Rogue Warfare: The Hunt': 0, 'Latte & the Magic Waterstone': 0, 'Immigration Nation': 0, 'Malibu Rescue: The Next Wave': 0, 'Jurassic Park': 0, 'Worldâ\\x80\\x99s Most Wanted': 0, 'Dennis the Menace': 0, 'The Seven Deadly Sins': 0, 'Work It': 0, 'Wizards: Tales of Arcadia': 0, 'Selling Sunset': 0, 'The Lost Husband': 0, 'Game On: A Comedy Crossover…': 0, 'Mr. Peabody & Sherman': 0, '(Un)Well': 0, 'Project Power': 0, 'The Legend of Korra': 0, 'Teenage Bounty Hunters': 0, 'Glow Up': 0, 'The Game': 0, 'High Score': 0, 'Drunk Parents': 0, 'Lucifer': 0, 'The Sleepover': 0, 'Rust Valley Restorers': 0, 'Hoops': 0, '1BR': 0, 'Trinkets': 0, 'Million Dollar Beach House': 0, 'Bunkâ\\x80\\x99d': 0, 'Cocomelon': 0, 'Cobra Kai': 0, 'I Am a Killer Released': 0, 'The Frozen Ground': 0, 'Quantum of Solace': 0, 'The Smurfs': 0, 'Sister, Sister': 0, 'Due Date': 0, 'The Boss Baby: Get That Baby': 0, 'Chefâ\\x80\\x99s Table: BBQ': 0, 'Love, Guaranteed': 0, 'Away': 0, 'Anaconda': 0, 'Puss in Boots': 0, '#Alive': 0, 'Get Organized with The Home…': 0, 'The Babysitter: Killer Queen': 0, 'The Social Dilemma': 0, 'Pets United': 0, 'Girlfriends': 0, 'Cuties': 0, 'Julie and the Phantoms': 0, 'Ancient Aliens': 0, 'How to Train Your Dragon 2': 0, 'The Devil All the Time': 0, 'The Smurfs 2': 0, 'Challenger: The Final Flight': 0, 'The Paramedic': 0, 'The Take': 0, 'Ratched': 0, 'Jurassic World: Camp Cretac…': 0, 'The Blacklist': 0, 'The American Barbecue Showdown': 0, 'Enola Holmes': 0, 'Real Steel': 0, 'The Great British Baking Show': 0, 'The Good Place': 0, 'Sneakerheads': 0, 'Bad Teacher': 0, 'American Murder: The Family…': 0, 'Welcome to Sudden Death': 0, 'Wentworth': 0, 'The Outpost': 0, 'Yogi Bear': 0, 'Emily in Paris': 0, 'Schittâ\\x80\\x99s Creek': 0, 'Evil': 0, 'Big Daddy': 0, 'Colombiana': 0, 'American Pie Presents: Girl…': 0, 'Hubie Halloween': 0, 'The 100': 0, 'The Haunting of Bly Manor': 0, 'The Cabin with Bert Kreischer': 0, 'Moneyball': 0, 'One on One': 0, 'The Trial of the Chicago 7': 0, 'A Babysitterâ\\x80\\x99s Guide to Mon…': 0, 'Dream Home Makeover': 0, 'Tremors: Shrieker Island': 0, 'Grand Army': 0, 'Rebecca': 0, 'My Next Guest Needs No Intr…': 0, 'Yes, God, Yes': 0, 'Over the Moon': 0, 'Barbarians': 0, 'The Queenâ\\x80\\x99s Gambit': 0, 'Blood of Zeus': 0, 'Holidate': 0, 'Secrets of the Saqqara Tomb': 0, 'Rogue City': 0, 'His House': 0, 'Knock Knock': 0, 'Mile 22': 0, 'Snowden': 0, 'Easy A': 0, 'Chappelleâ\\x80\\x99s Show': 0, 'Operation Christmas Drop': 0, 'The Impossible': 0, 'Midnight at the Magnolia': 0, \"Chappelle's Show\": 0, 'Dash & Lily': 0, 'Illumination Presents The G…': 0, '60 Days In': 0, 'Trial 4': 0, 'The Liberator': 0, 'Jingle Jangle: A Christmas …': 0, 'American Horror Story': 0, 'The Life Ahead': 0, 'The Crown': 0, 'Hometown Holiday': 0, 'Kevin Hart: Zero F**ks Given': 0, 'The Boss Baby: Back in Busi…': 0, 'Survivor': 0, 'The Princess Switch: Switch…': 0, 'Christmas on the Square': 0, 'If Anything Happens I Love You': 0, 'Hillbilly Elegy': 0, 'Hard Kill': 0, 'The Christmas Chronicles 2': 0, 'The Christmas Chronicles': 0, 'How the Grinch Stole Christmas': 0, 'Virgin River': 0, 'The Beast': 0, 'The 2nd': 0, 'Peppermint': 0, 'Rust Creek': 0, 'Alien Worlds': 0, 'Marauders': 0, 'Selena: The Series': 0, 'Big Mouth': 0, 'Ava': 0, 'Triple 9': 0, 'Manhunt: Deadly Games': 0, 'The Prom': 0, 'A California Christmas': 0, 'Tiny Pretty Things': 0, 'The Ripper': 0, 'Braven': 0, 'Ma Raineyâ\\x80\\x99s Black Bottom': 0, 'Ariana Grande: Excuse Me, I…': 0, 'After We Collided': 0, 'Sweet Home': 0, 'The Midnight Sky': 0, 'Klaus': 0, 'Bridgerton': 0, 'We Can Be Heroes': 0, 'Death to 2020': 0, 'The Croods': 0, 'Dare Me: Season 1': 0, 'Chilling Adventures of Sabrina': 0, 'Rango': 0, 'Dare Me': 0, 'Unknown': 0, '17 Again': 0, '30 Minutes or Less': 0, 'The Netflix Afterparty': 0, 'History of Swear Words': 0, \"Gabby's Dollhouse\": 0, 'Pieces of a Woman': 0, 'Surviving Death': 0, 'Lupin': 0, \"L.A.'s Finest\": 0, 'Jenni Rivera: Mariposa de B…': 0, 'Night Stalker: The Hunt for…': 0, 'Outside the Wire': 0, 'Disenchantment': 0, 'Henry Danger': 0, 'Bling Empire': 0, 'The Vanished': 0, 'Homefront': 0, 'Cut Throat City': 0, 'Fate: The Winx Saga': 0, 'The White Tiger': 0, 'The Next Three Days': 0, 'Demon Slayer: Kimetsu No Yaiba': 0, 'Go, Dog, Go': 0, 'Below Zero': 0, 'The Dig': 0, 'Finding â\\x80\\x99Ohana': 0, 'Firefly Lane': 0, 'All About the Benjamins': 0, 'Malcolm & Marie': 0, 'The Sinner': 0, 'Space Sweepers': 0, 'Are We There Yet?': 0, 'iCarly': 0, 'War Dogs': 0, 'Crime Scene: The Vanishing …': 0, 'Squared Love': 0, 'Red Dot': 0, 'To All the Boys Always and …': 0, 'The Crew': 0, 'Good Girls': 0, 'Animals on the Loose: A You…': 0, 'Behind Her Eyes': 0, 'I Care a Lot.': 0, 'Tribes of Europa': 0, 'The Conjuring 2': 0, 'Ginny & Georgia': 0, 'Age of Samurai: Battle for …': 0, 'Canine Intervention': 0, 'Bigfoot Family': 0, 'Biggie: I Got A Story to Tell': 0, 'Step Up Revolution': 0, 'Murder Among the Mormons': 0, 'Moxie': 0, 'Training Day': 0, 'Sentinelle': 0, 'The Dark Knight': 0, 'Parker': 0, 'Last Chance U: Basketball': 0, 'Marriage or Mortgage': 0, 'Yes Day': 0, 'The One': 0, 'Paradise PD': 0, 'The Lost Pirate Kingdom': 0, 'Savages': 0, 'Operation Varsity Blues': 0, 'The Last Blockbuster': 0, 'Deadly Illusions': 0, 'Skylines': 0, 'Jiu Jitsu': 0, 'Country Comfort': 0, 'Who Killed Sara?': 0, 'Seaspiracy': 0, 'Secret Magic Control Agency': 0, 'Bad Trip': 0, 'A Week Away': 0, 'The Secret Life of Pets 2': 0, 'The BFG': 0, 'The Irregulars': 0, 'Big Time Rush': 0, 'Octonauts & The Ring of Fire': 0, 'Friends with Benefits': 0, 'Concrete Cowboy': 0, 'Hasta el cielo': 0, 'Worn Stories': 0, 'The Serpent': 0, 'White Boy': 0, 'What Lies Below': 0, 'Sniper: Ghost Shooter': 0, 'Family Reunion': 0, 'Saving Private Ryan': 0, 'Legally Blonde': 0, 'This is a Robbery: The Worl…': 0, 'Thunder Force': 0, 'The Little Rascals': 0, 'The Stand-In': 0, 'Nicky, Ricky, Dicky & Dawn': 0, 'Dad Stop Embarrassing Me!': 0, 'Why Did You Kill Me?': 0, 'The Circle US': 0, 'The Baker and the Beauty': 0, 'Synchronic': 0, 'Stowaway': 0, 'Life in Color with David At…': 0, 'Shadow and Bone': 0, 'American Me': 0, 'Things Heard & Seen': 0, 'Yasuke': 0, 'The Mitchells vs. The Machines': 0, 'The Innocent': 0, \"Madagascar 3: Europe's Most…\": 0, 'Love Happens': 0, 'Green Zone': 0, 'Your Highness': 0, 'The Sons of Sam: A Descent …': 0, 'Jupiterâ\\x80\\x99s Legacy': 0, 'Monster': 0, 'Dead Man Down': 0, 'StartUp': 0, 'The Upshaws': 0, 'CastleVania': 0, 'The Woman in the Window': 0, 'Jungle Beat: The Movie': 0, 'Halston': 0, 'I Am All Girls': 0, 'Love, Death & Robots': 0, 'Sabotage': 0, 'Army of the Dead': 0, 'Home': 0, 'Blue Miracle': 0, 'Ragnarok': 0, 'Dog Gone Trouble': 0, 'The Kominsky Method': 0, 'Dirty John': 0, '2 Hearts': 0, \"Kim's Convenience\": 0, 'Sweet Tooth': 0, 'Monsters vs. Aliens': 0, 'Xtreme': 0, 'Bo Burnham: Inside': 0, 'Awake': 0, 'Manifest': 0, 'Wish Dragon': 0, 'A Haunted House 2': 0, 'The Devil Below': 0, 'Black Summer': 0, 'Fatherhood': 0, 'Ã\\x89lite': 0, 'The Worldâ\\x80\\x99s Most Amazing Va…': 0, 'Good on Paper': 0, 'The Ice Road': 0, 'Sex/Life': 0, 'Sophie: A Murder in West Cork': 0, 'The Bureau of Magical Things': 0, 'Fear Street Part 1: 1994': 0, \"Mother's Day\": 0, 'Talladega Nights: The Balla…': 0, 'Kung Fu Panda': 0, 'Resident Evil: Infinite Dar…': 0, 'Major Grom: Plague Doctor': 0, 'Fear Street Part 2: 1978': 0, 'Atypical': 0, 'The Cook of Castamar': 0, 'Gunpowder Milkshake': 0, 'Heist': 0, 'Fear Street Part 3: 1666': 0, 'Twilight': 0, 'The Twilight Saga: New Moon': 0, 'The Twilight Saga: Eclipse': 0, 'The Twilight Saga: Breaking…': 0, 'Trollhunters: Rise of the T…': 0, 'Blood Red Sky': 0, 'Masters of the Universe: Re…': 0, 'The Last Letter From Your L…': 0, 'The Walking Dead': 0, 'Resort to Love': 0, 'The Vault': 0, 'The Losers': 0, 'Top Secret UFO Projects: De…': 0, 'Cocaine Cowboys: The Kings …': 0, 'Aftermath': 0, 'Vivo': 0, 'Hit & Run': 0, 'Major Payne': 0, 'The Kissing Booth 3': 0, 'Untold': 0, 'Beckett': 0, 'Grace and Frankie': 0, 'Bake Squad': 0, 'Black Island': 0, 'Sweet Girl': 0, 'The Loud House Movie': 0, 'The Chair': 0, 'The Defeated': 0, 'The Witcher: Nightmare of t…': 0, 'Clickbait': 0, 'Bob Ross: Happy Accidents, …': 0, 'Heâ\\x80\\x99s All That': 0, 'SAS: Red Notice': 0, 'Green Lantern': 0, 'Welcome Home Roscoe Jenkins': 0, 'Turning Point: 9/11 and the…': 0, 'Afterlife of the Party': 0, 'Sharkdog': 0, 'Worth': 0, 'On the Verge': 0, 'Kate': 0, 'Prey': 0, 'An Unfinished Life': 0, 'Safe House': 0, 'Nightbooks': 0, 'Sex Education': 0, 'Squid Game': 0, 'The Father Who Moves Mountains': 0, 'Intrusion': 0, 'Grown Ups': 0, 'Monsters Inside: The 24 Fac…': 0, 'My Little Pony: A New Gener…': 0, 'Midnight Mass': 0, 'The Starling': 0, 'Britney vs Spears': 0, 'No One Gets Out Alive': 0, 'The Guilty': 0, 'Maid': 0, 'Seinfeld': 0, 'The DUFF': 0, 'On My Block': 0, 'Titanic': 0, 'Dave Chappelle: The Closer': 0, 'Thereâ\\x80\\x99s Someone Inside Your…': 0, 'The Five Juanas': 0, 'You': 0, 'The Forgotten Battle': 0, 'Going in Style': 0, 'My Name': 0, 'Night Teeth': 0, 'Locke & Key': 0, 'Inside Job': 0, 'Maya and the Three': 0, 'King Arthur: Legend of the …': 0, 'Hypnotic': 0, 'Army of Thieves': 0, 'Colin in Black & White': 0, '21 Jump Street': 0, 'Replicas': 0, 'The Harder They Fall': 0, 'Catching Killers': 0, 'Love Hard': 0, 'Narcos: Mexico': 0, 'Arcane': 0, 'The Thundermans': 0, 'Passing': 0, 'Red Notice': 0, 'Animal': 0, 'American Pie: Reunion': 0, 'The Queen of Flow': 0, 'The Princess Switch 3: Roma…': 0, 'Tiger King': 0, 'Cowboy Bebop': 0, 'Hellbound': 0, 'Here Comes the Boom': 0, 'True Story': 0, 'Bruised': 0, 'A Boy Called Christmas': 0, 'A Castle for Christmas': 0, 'School of Chocolate': 0, 'Elves': 0, 'Lost in Space': 0, 'The Power of the Dog': 0, 'Jojoâ\\x80\\x99s Bizarre Adventure': 0, 'Life': 0, 'Single all the Way': 0, 'Single All the Way': 0, 'Jurassic World Camp Cretaceous': 0, 'Ink Master': 0, 'Law Abiding Citizen': 0, 'Peter Rabbit 2': 0, 'The Unforgivable': 0, 'Back to the Outback': 0, 'The Shack': 0, 'Twentysomethings: Austin': 0, 'The Witcher': 0, 'Selling Tampa': 0, 'A California Christmas: Cit…': 0, 'Grumpy Christmas': 0, 'WWII in Color: Road to Victory': 0, 'Donâ\\x80\\x99t Look Up': 0, 'White Christmas': 0, 'The Silent Sea': 0, 'Daughter From Another Mother': 0, 'Death to 2021': 0, 'Crime Scene: The Times Squa…': 0, 'The Lost Daughter': 0, 'Stay Close': 0, 'Journey 2: The Mysterious I…': 0, 'Scary Stories to Tell in th…': 0, 'The Longest Yard': 0, 'Dark Shadows': 0, 'Hype House': 0, 'The Colony': 0, 'Cheer': 0, 'Brazen': 0, 'Archive 81': 0, 'After We Fell': 0, 'The Puppet Master: Hunting …': 0, 'The Royal Treatment': 0, 'Annabelle: Creation': 0, 'That Girl Lay Lay': 0, 'Munich: The Edge of War': 0, 'Chosen': 0, 'I Am Georgina': 0, 'The Woman in the House Acro…': 0, 'All of Us Are Dead': 0, 'Home Team': 0, 'In From the Cold': 0, 'Feria: The Darkest Light': 0, 'Can You Keep a Secret?': 0, 'Raising Dion': 0, 'Transformers: Revenge of th…': 0, 'Despicable Me 2': 0, 'The Tinder Swindler': 0, 'The Lucky One': 0, 'Murderville': 0, 'Inventing Anna': 0, 'Tall Girl 2': 0, 'St. Vincent': 0, 'jeen-yuhs: A Kanye Trilogy': 0, 'Blackhat': 0, 'Fistful of Vengeance': 0, 'Texas Chainsaw Massacre': 0, 'The Cuphead Show': 0, 'Tyler Perryâ\\x80\\x99s A Madea Homec…': 0, 'Vikings: Valhalla': 0, 'Restless': 0, 'Worst Roommate Ever': 0, 'Shrek 2': 0, 'Battleship': 0, 'Just Like Heaven': 0, 'Against the Ice': 0, 'The Weekend Away': 0, 'Pieces of Her': 0, 'Shrek': 0, 'Shooter': 0}\n"
          ]
        }
      ],
      "source": [
        "# Pandas\n",
        "# output.clear() # 出力画面をクリアする。\n",
        "\n",
        "import pandas as pd\n",
        "from google.colab import output # 出力画面クリア用\n",
        "import datetime\n",
        "import numpy as np\n",
        "\n",
        "# header=0として、csvの１行目は列名と指定する。\n",
        "df = pd.read_csv('https://raw.githubusercontent.com/ShotaSasaki-HCU/Prog2kakushin/main/netflix%20daily%20top%2010.csv', header=0)\n",
        "\n",
        "separate = '-----------------------------------------------------------' # 区切り横線\n",
        "functions = [\"トップ10入り合計日数ランキング\", \"最大連続トップ10入り日数ランキング\"] # 機能一覧を格納するリストfunctions\n",
        "error_enable = False # 選択肢範囲外をユーザが選択したとき用のフラグ\n",
        "while True:\n",
        "  output.clear() # 選択肢範囲外を選択し、戻ってきた場合のため出力画面をクリアする。\n",
        "  print(\"【2020年4月1日〜2022年3月11日のNetflixランキング分析】\")\n",
        "  for i, function in enumerate(functions): # リストfunctionsを箇条書きで列挙する。\n",
        "    print(str(i+1) + '.', function)\n",
        "  if error_enable:\n",
        "    print(\"[エラー]1~\" + str(len(functions)) + \"の範囲で入力してください。\")\n",
        "  select = int(input(separate + \"\\n選択肢の番号を入力：\"))\n",
        "  if not(1 <= select <= len(functions)): # 選択肢範囲外をユーザが指定したらwhile文の先頭まで戻る。\n",
        "    error_enable = True\n",
        "    continue\n",
        "  error_enable = False\n",
        "\n",
        "  # 1. トップ10入り合計日数ランキング\n",
        "  if select == 1:\n",
        "    df_title = df['Title'].value_counts() # ユニークな要素のそれぞれの出現回数を得る。\n",
        "    while True:\n",
        "      output.clear() # 画面遷移のため、出力画面をクリアする。\n",
        "      print(\"【1. トップ10入り合計日数ランキング】\")\n",
        "      if error_enable:\n",
        "        print(\"[エラー]1~\" + str(len(df_title)) + \"の範囲で入力してください。\")\n",
        "      limit = int(input(\"上位何位(1~\" + str(len(df_title)) + \")まで表示しますか？：\"))\n",
        "      if not(1 <= limit <= len(df_title)): # 選択肢範囲外をユーザが指定したらwhile文の先頭まで戻る。\n",
        "        error_enable = True\n",
        "        continue\n",
        "      error_enable = False\n",
        "      break\n",
        "    titles = df_title[0:limit].index.values # 出現回数が格納されたSeriesの行名（作品タイトル）をリスト化\n",
        "    print('   ' + 'Title'.center(30) + ':\\t出現日数（／' + str(int(len(df)/10)) + '日）\\n' + separate)\n",
        "    for i in range(len(titles)):\n",
        "      print(str(i+1) + '. ' + titles[i].center(30) + ':\\t' + str(df_title[0:limit][i]).center(16))\n",
        "\n",
        "  # 2. 最大連続トップ10入り日数ランキング\n",
        "  elif select == 2:\n",
        "    titles = list(df['Title'].unique()) # 作品タイトルの列を重複無しで抽出してリスト化する。\n",
        "    in_a_row_temp = dict(zip(titles, [0]*len(titles))) # 暫定的な連続日数\n",
        "    in_a_row_final = dict(zip(titles, [0]*len(titles))) # 最大連続日数\n",
        "\n",
        "    top10_yesterday = list(df['Title'][0:10]) # 前の日付の10タイトルを格納するリスト\n",
        "    for i in range(10, int(len(df)/10), 10): # 1日ずつ見ていく。\n",
        "      top10_today = list(df['Title'][i:i+10]) # 現在の日付の10タイトルをリストにする。\n",
        "      for title_yesterday in top10_yesterday: # 前の日付のタイトルが、\n",
        "        if title_yesterday in top10_today: # 現在の日付の10タイトルに残っていたら、\n",
        "          in_a_row_temp[title_yesterday] += 1 # それを連続として加算する。\n",
        "        else: # 前の日付のタイトルが、現在の日付の10タイトルに残っていなかったら、\n",
        "          if in_a_row_temp[title_yesterday] > in_a_row_final[title_yesterday]: # 暫定的な連続日数が、今までの連続日数を超えていたら、\n",
        "            in_a_row_final[title_yesterday] = in_a_row_temp[title_yesterday] # 最大連続日数を、暫定的だった連続日数で書き換える。\n",
        "          in_a_row_temp[title_yesterday] = 0 # 連続が途切れたので、暫定的な連続日数をリセットする。\n",
        "      top10_yesterday = top10_today # 現在の日付の処理が終わったら、現在のタイトルを前のタイトルとして記録する。\n",
        "    print(in_a_row_final)\n",
        "\n",
        "  break"
      ]
    }
  ]
}