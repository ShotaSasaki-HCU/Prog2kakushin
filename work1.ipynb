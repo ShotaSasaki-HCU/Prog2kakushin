{
  "nbformat": 4,
  "nbformat_minor": 0,
  "metadata": {
    "colab": {
      "provenance": [],
      "authorship_tag": "ABX9TyOVWDoSPFZOtnG1y1MGOrUh",
      "include_colab_link": true
    },
    "kernelspec": {
      "name": "python3",
      "display_name": "Python 3"
    },
    "language_info": {
      "name": "python"
    }
  },
  "cells": [
    {
      "cell_type": "markdown",
      "metadata": {
        "id": "view-in-github",
        "colab_type": "text"
      },
      "source": [
        "<a href=\"https://colab.research.google.com/github/ShotaSasaki-HCU/Prog2kakushin/blob/main/work1.ipynb\" target=\"_parent\"><img src=\"https://colab.research.google.com/assets/colab-badge.svg\" alt=\"Open In Colab\"/></a>"
      ]
    },
    {
      "cell_type": "code",
      "execution_count": 57,
      "metadata": {
        "id": "2gD_sJ1BEjIO",
        "colab": {
          "base_uri": "https://localhost:8080/"
        },
        "outputId": "28ad1701-aa91-471e-b7aa-c903ed789fd3"
      },
      "outputs": [
        {
          "output_type": "stream",
          "name": "stdout",
          "text": [
            "【2. 最大連続トップ10入り日数ランキング】\n",
            "上位何位(1~645)まで表示しますか？：20\n",
            "               Title             :\t最大連続日数\n",
            "-----------------------------------------------------------\n",
            "1.           Cocomelon           :\t    103    \n",
            "2.      The Queenâs Gambit     :\t     61    \n",
            "3.           Bridgerton          :\t     57    \n",
            "4.            Manifest           :\t     53    \n",
            "5.           Squid Game          :\t     49    \n",
            "6.             Ozark             :\t     44    \n",
            "7.          Outer Banks          :\t     38    \n",
            "8.             iCarly            :\t     38    \n",
            "9.          The Witcher          :\t     38    \n",
            "10.          All American         :\t     37    \n",
            "11.       The Queen of Flow       :\t     36    \n",
            "12.              Maid             :\t     34    \n",
            "13.              You              :\t     34    \n",
            "14.   Avatar: The Last Airbender  :\t     33    \n",
            "15.      The Umbrella Academy     :\t     33    \n",
            "16.           Cobra Kai           :\t     32    \n",
            "17.        Ginny & Georgia        :\t     30    \n",
            "18. The Mitchells vs. The Machines:\t     30    \n",
            "19.           Clickbait           :\t     29    \n",
            "20.       All of Us Are Dead      :\t     28    \n"
          ]
        }
      ],
      "source": [
        "# Pandas\n",
        "# output.clear() # 出力画面をクリアする。\n",
        "\n",
        "import pandas as pd\n",
        "from google.colab import output # 出力画面クリア用\n",
        "import datetime\n",
        "import numpy as np\n",
        "\n",
        "# header=0として、csvの１行目は列名と指定する。\n",
        "df = pd.read_csv('https://raw.githubusercontent.com/ShotaSasaki-HCU/Prog2kakushin/main/netflix%20daily%20top%2010.csv', header=0)\n",
        "\n",
        "separate = '-----------------------------------------------------------' # 区切り横線\n",
        "functions = [\"トップ10入り合計日数ランキング\", \"最大連続トップ10入り日数ランキング\"] # 機能一覧を格納するリストfunctions\n",
        "error_enable = False # 選択肢範囲外をユーザが選択したとき用のフラグ\n",
        "while True:\n",
        "  output.clear() # 選択肢範囲外を選択し、戻ってきた場合のため出力画面をクリアする。\n",
        "  print(\"【2020年4月1日〜2022年3月11日のNetflixランキング分析】\")\n",
        "  for i, function in enumerate(functions): # リストfunctionsを箇条書きで列挙する。\n",
        "    print(str(i+1) + '.', function)\n",
        "  if error_enable:\n",
        "    print(\"[エラー]1~\" + str(len(functions)) + \"の範囲で入力してください。\")\n",
        "  select = int(input(separate + \"\\n選択肢の番号を入力：\"))\n",
        "  if not(1 <= select <= len(functions)): # 選択肢範囲外をユーザが指定したらwhile文の先頭まで戻る。\n",
        "    error_enable = True\n",
        "    continue\n",
        "  error_enable = False\n",
        "\n",
        "  # 1. トップ10入り合計日数ランキング\n",
        "  if select == 1:\n",
        "    df_title = df['Title'].value_counts() # ユニークな要素のそれぞれの出現回数を得る。\n",
        "    while True: # ユーザインターフェース\n",
        "      output.clear() # 画面遷移のため、出力画面をクリアする。\n",
        "      print(\"【1. トップ10入り合計日数ランキング】\")\n",
        "      if error_enable:\n",
        "        print(\"[エラー]1~\" + str(len(df_title)) + \"の範囲で入力してください。\")\n",
        "      limit = int(input(\"上位何位(1~\" + str(len(df_title)) + \")まで表示しますか？：\"))\n",
        "      if not(1 <= limit <= len(df_title)): # 選択肢範囲外をユーザが指定したらwhile文の先頭まで戻る。\n",
        "        error_enable = True\n",
        "        continue\n",
        "      error_enable = False\n",
        "      break\n",
        "    titles = df_title[0:limit].index.values # 出現回数が格納されたSeriesの行名（作品タイトル）をリスト化\n",
        "    print('   ' + 'Title'.center(30) + ':\\t出現日数（／' + str(int(len(df)/10)) + '日）\\n' + separate)\n",
        "    for i in range(len(titles)):\n",
        "      print(str(i+1) + '. ' + titles[i].center(30) + ':\\t' + str(df_title[0:limit][i]).center(16))\n",
        "\n",
        "  # 2. 最大連続トップ10入り日数ランキング\n",
        "  elif select == 2:\n",
        "    titles = list(df['Title'].unique()) # 作品タイトルの列を重複無しで抽出してリスト化する。\n",
        "    in_a_row_temp = dict(zip(titles, [0]*len(titles))) # 暫定的な連続日数の辞書（キーはタイトル・値は日数）\n",
        "    in_a_row_final = dict(zip(titles, [0]*len(titles))) # 最大連続日数の辞書（キーはタイトル・値は日数）\n",
        "\n",
        "    top10_yesterday = list(df['Title'][0:10]) # 前の日付の10タイトルを格納するリスト\n",
        "    for i in range(10, len(df), 10): # 1日ずつ見ていく。\n",
        "      top10_today = list(df['Title'][i:i+10]) # 現在の日付の10タイトルをリストにする。\n",
        "      for title_yesterday in top10_yesterday: # 前の日付のタイトルが、\n",
        "        if title_yesterday in top10_today: # 現在の日付の10タイトルに残っていたら、\n",
        "          in_a_row_temp[title_yesterday] += 1 # それを連続として加算する。\n",
        "        else: # 前の日付のタイトルが、現在の日付の10タイトルに残っていなかったら、\n",
        "          if in_a_row_temp[title_yesterday] > in_a_row_final[title_yesterday]: # 暫定的な連続日数が、今までの連続日数を超えていたら、\n",
        "            in_a_row_final[title_yesterday] = in_a_row_temp[title_yesterday] # 最大連続日数を、暫定的だった連続日数で書き換える。\n",
        "          in_a_row_temp[title_yesterday] = 0 # 連続が途切れたので、暫定的な連続日数をリセットする。\n",
        "      top10_yesterday = top10_today # 現在の日付の処理が終わったら、現在のタイトルを前のタイトルとして記録する。\n",
        "    in_a_row_final_sorted = sorted(in_a_row_final.items(), key=lambda v: v[1], reverse=True) # 最大連続日数について降順でソート\n",
        "\n",
        "    while True: # ユーザインターフェース\n",
        "      output.clear() # 画面遷移のため、出力画面をクリアする。\n",
        "      print(\"【2. 最大連続トップ10入り日数ランキング】\")\n",
        "      if error_enable:\n",
        "        print(\"[エラー]1~\" + str(len(in_a_row_final_sorted)) + \"の範囲で入力してください。\")\n",
        "      limit = int(input(\"上位何位(1~\" + str(len(in_a_row_final_sorted)) + \")まで表示しますか？：\"))\n",
        "      if not(1 <= limit <= len(in_a_row_final_sorted)): # 選択肢範囲外をユーザが指定したらwhile文の先頭まで戻る。\n",
        "        error_enable = True\n",
        "        continue\n",
        "      error_enable = False\n",
        "      break\n",
        "    print('   ' + 'Title'.center(30) + ':\\t最大連続日数\\n' + separate)\n",
        "    for i in range(limit):\n",
        "      print(str(i+1) + '. ' + in_a_row_final_sorted[i][0].center(30) + ':\\t' + str(in_a_row_final_sorted[i][1]).center(11))\n",
        "\n",
        "  break"
      ]
    }
  ]
}