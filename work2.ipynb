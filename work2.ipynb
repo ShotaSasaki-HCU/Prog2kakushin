{
  "nbformat": 4,
  "nbformat_minor": 0,
  "metadata": {
    "colab": {
      "provenance": [],
      "gpuType": "T4",
      "authorship_tag": "ABX9TyPbIwiRstAaJ5SWLK2aJ7py",
      "include_colab_link": true
    },
    "kernelspec": {
      "name": "python3",
      "display_name": "Python 3"
    },
    "language_info": {
      "name": "python"
    },
    "accelerator": "GPU"
  },
  "cells": [
    {
      "cell_type": "markdown",
      "metadata": {
        "id": "view-in-github",
        "colab_type": "text"
      },
      "source": [
        "<a href=\"https://colab.research.google.com/github/ShotaSasaki-HCU/Prog2kakushin/blob/main/work2.ipynb\" target=\"_parent\"><img src=\"https://colab.research.google.com/assets/colab-badge.svg\" alt=\"Open In Colab\"/></a>"
      ]
    },
    {
      "cell_type": "code",
      "execution_count": 8,
      "metadata": {
        "id": "1RMa5mT6E9ZI",
        "colab": {
          "base_uri": "https://localhost:8080/",
          "height": 34
        },
        "outputId": "d2daa5a4-b741-432a-8b92-f432112ffbcc"
      },
      "outputs": [
        {
          "output_type": "display_data",
          "data": {
            "text/plain": [
              "<Figure size 11x11 with 1 Axes>"
            ],
            "image/png": "[encoded data removed]"
          },
          "metadata": {}
        }
      ],
      "source": [
        "# Numpyの練習\n",
        "# 2D Phased Array Simulator\n",
        "# 減衰は考慮しない。\n",
        "\n",
        "# 解像度自動調整機能（確定）\n",
        "# アニメーション作成機能（確定）\n",
        "# 計算結果保存機能（ほぼ確定）\n",
        "# UIの決定（よくわからん）\n",
        "\n",
        "import numpy as np\n",
        "import matplotlib.pyplot as plt\n",
        "import matplotlib.ticker as ticker\n",
        "\n",
        "range_x_R = 50 # x軸方向レンジ右(mm)\n",
        "range_x_L = -50 # x軸方向レンジ左(mm)\n",
        "range_y_T = 100 # y軸方向レンジ上(mm)\n",
        "range_y_B = 0 # y軸方向レンジ下(mm)\n",
        "calc_width = 10 # 計算幅(mm)\n",
        "\n",
        "A = 1 # 送信波の振幅(mm)\n",
        "f = 40000 # 送信波の周波数(Hz)\n",
        "t = 0 # 時間(s)\n",
        "v = 340.29 * 1000 # 送信波の速さ(mm/s)\n",
        "\n",
        "tr_num = 8 # 送信素子数（個）\n",
        "tr_directivity = np.deg2rad(95) # 送信素子指向性(rad)\n",
        "tr_clearance = (v / f) / 2 # 送信素子間隔(mm)\n",
        "tr_x_coord = [] # 送信素子のx座標（y座標は0で固定）\n",
        "\n",
        "# 送信素子をx軸上に原点が中心となる様に配置する。それらの座標を計算してtr_x_coordに格納する。\n",
        "if (tr_num % 2) == 1: # 送信素子数が奇数個のとき\n",
        "  for n in range(0, tr_num):\n",
        "    tr_x_coord.append(-((tr_num // 2) * tr_clearance) + (n * tr_clearance))\n",
        "else: # 送信素子数が偶数個のとき\n",
        "  for n in range(0, tr_num):\n",
        "    tr_x_coord.append(-(((tr_num // 2) * tr_clearance) - (tr_clearance / 2)) + (n * tr_clearance))\n",
        "\n",
        "# ビームフォーミングモード\n",
        "beam_direction = np.deg2rad(90) # 合成波の指向方向(rad)\n",
        "\n",
        "# 集束モード\n",
        "convergent_point = (0, 100) # 集束点の座標\n",
        "d_ini = np.linalg.norm(np.array([convergent_point[0], convergent_point[1]]) - np.array([tr_x_coord[0], 0])) # 左端の送信素子と集束点の距離\n",
        "\n",
        "# 指定されたレンジを満たす（必要最小限は超える）Numpy２次元配列を0埋めで作成する。\n",
        "sim_result = np.zeros((int(np.ceil((range_y_T - range_y_B) / calc_width) + 1), int(np.ceil((range_x_R - range_x_L) / calc_width) + 1)))\n",
        "\n",
        "calc_x = range_x_L # 計算するx座標を初期化\n",
        "calc_y = range_y_T # 計算するy座標を初期化\n",
        "row = 0 # 行インデックス初期化\n",
        "column = 0 # 列インデックス初期化\n",
        "for num in range(0, tr_num): # 送信素子それぞれについて左端から順次計算していく。\n",
        "  # phase_diff = num * tr_clearance * np.sin(beam_direction - (np.pi / 2)) # 位相差（距離）（ビームフォーミングモード）\n",
        "  phase_diff = np.linalg.norm(np.array([convergent_point[0], convergent_point[1]]) - np.array([tr_x_coord[num], 0])) - d_ini # 位相差（距離）（集束モード）\n",
        "  while calc_y > (range_y_B - calc_width):\n",
        "    while calc_x < (range_x_R + calc_width):\n",
        "      vec = np.array([calc_x, calc_y]) - np.array([tr_x_coord[num], 0]) # (計算座標) - (送信素子の座標)\n",
        "      from_tr = np.arctan2(vec[0], vec[1]) # 送信素子から見た計算座標の向き（y軸が0(rad)で、時計回りが正・反時計回りが負となる。）\n",
        "      if np.abs(from_tr) <= (tr_directivity / 2): # 計算座標が送信素子の指向性の範囲に入っている場合\n",
        "        sim_result[row][column] += A * np.sin(2 * np.pi * f * (t - (np.linalg.norm(vec) / v) + (phase_diff / v))) # 波の式\n",
        "      calc_x += calc_width # 次の計算座標へ（x軸の正方向へ）\n",
        "      column += 1\n",
        "    calc_x = range_x_L # 計算するx座標を初期化\n",
        "    column = 0 # 列インデックス初期化\n",
        "    calc_y -= calc_width # 次の計算座標へ（y軸の負方向へ）\n",
        "    row += 1\n",
        "  calc_y = range_y_T # 計算するy座標を初期化\n",
        "  row = 0 # 行インデックス初期化\n",
        "\n",
        "# # ここからヒートマップの表示設定\n",
        "# fig, ax = plt.subplots(figsize=(6, 4))\n",
        "# im = ax.imshow(sim_result, cmap='rainbow', aspect='equal', vmin=-A*tr_num, vmax=A*tr_num)\n",
        "# plt.colorbar(im)\n",
        "# # x軸目盛りの設定\n",
        "# ax.set_xticks(np.arange(0, sim_result.shape[1], 1))\n",
        "# ax.set_xticklabels(np.linspace(range_x_L, range_x_L+(calc_width*(sim_result.shape[1]-1)), sim_result.shape[1]))\n",
        "# ax.xaxis.set_major_locator(ticker.AutoLocator()) # 過剰に指定された目盛りを自動調整\n",
        "# ax.xaxis.set_minor_locator(ticker.AutoMinorLocator()) # 副目盛りで主目盛りを自動補完\n",
        "# # y軸目盛りの設定\n",
        "# ax.set_yticks(np.arange(sim_result.shape[0]-1, 0-1, -1))\n",
        "# ax.set_yticklabels(np.linspace(range_y_T-(calc_width*(sim_result.shape[0]-1)), range_y_T, sim_result.shape[0]))\n",
        "# ax.yaxis.set_major_locator(ticker.AutoLocator()) # 過剰に指定された目盛りを自動調整\n",
        "# ax.yaxis.set_minor_locator(ticker.AutoMinorLocator()) # 副目盛りで主目盛りを自動補完\n",
        "# # タイトル・軸ラベルの設定\n",
        "# ax.set_title('2D Phased Array Simulator')\n",
        "# ax.set_xlabel('x-axis(mm)')\n",
        "# ax.set_ylabel('y-axis(mm)')\n",
        "# plt.show()\n",
        "\n",
        "fig, ax = plt.subplots(figsize=sim_result.shape[::-1], dpi=1, tight_layout=True)\n",
        "ax.imshow(sim_result, cmap='rainbow', aspect='equal', vmin=-A*tr_num, vmax=A*tr_num)\n",
        "ax.axis('off')\n",
        "\n",
        "plt.savefig('image.png', dpi=1)"
      ]
    }
  ]
}