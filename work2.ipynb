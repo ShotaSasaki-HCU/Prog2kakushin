{
  "nbformat": 4,
  "nbformat_minor": 0,
  "metadata": {
    "colab": {
      "provenance": [],
      "authorship_tag": "ABX9TyPy5z9O6TAMtZMEN7MYYcLN",
      "include_colab_link": true
    },
    "kernelspec": {
      "name": "python3",
      "display_name": "Python 3"
    },
    "language_info": {
      "name": "python"
    }
  },
  "cells": [
    {
      "cell_type": "markdown",
      "metadata": {
        "id": "view-in-github",
        "colab_type": "text"
      },
      "source": [
        "<a href=\"https://colab.research.google.com/github/ShotaSasaki-HCU/Prog2kakushin/blob/main/work2.ipynb\" target=\"_parent\"><img src=\"https://colab.research.google.com/assets/colab-badge.svg\" alt=\"Open In Colab\"/></a>"
      ]
    },
    {
      "cell_type": "code",
      "execution_count": 7,
      "metadata": {
        "id": "1RMa5mT6E9ZI",
        "outputId": "43313a22-5d4d-4a37-c297-9503b2ad8379",
        "colab": {
          "base_uri": "https://localhost:8080/"
        }
      },
      "outputs": [
        {
          "output_type": "stream",
          "name": "stdout",
          "text": [
            "[-12.600000000000001, -4.200000000000001, 4.199999999999999, 12.600000000000001]\n"
          ]
        }
      ],
      "source": [
        "# Numpyの練習\n",
        "# 2D Phased Array Simulator\n",
        "\n",
        "import numpy as np\n",
        "\n",
        "range_x_R = 1 # x軸方向レンジ右(mm)\n",
        "range_x_L = -1 # x軸方向レンジ左(mm)\n",
        "range_y_T = 1 # y軸方向レンジ上(mm)\n",
        "range_y_B = -1 # y軸方向レンジ下(mm)\n",
        "calc_width = 1 # 計算幅(mm)\n",
        "tr_num = 4 # 送信素子数（個）\n",
        "tr_directivity = 95 # 送信素子指向性（度）\n",
        "tr_clearance = 8.4 # 送信素子間隔(mm)\n",
        "tr_x_coord = [] # 送信素子のx座標（y座標は0で固定）\n",
        "beam_direction = np.pi / 2 # 合成波の指向方向(rad)\n",
        "\n",
        "# 送信素子をx軸上に原点が中心となる様に配置する。それらの座標を計算してtr_x_coordに格納する。\n",
        "if (tr_num % 2) == 1: # 送信素子数が奇数個のとき\n",
        "  for n in range(0, tr_num):\n",
        "    tr_x_coord.append(-((tr_num // 2) * tr_clearance) + (n * tr_clearance))\n",
        "else: # 送信素子数が偶数個のとき\n",
        "  for n in range(0, tr_num):\n",
        "    tr_x_coord.append(-(((tr_num // 2) * tr_clearance) - (tr_clearance / 2)) + (n * tr_clearance))\n",
        "\n",
        "print(tr_x_coord)"
      ]
    }
  ]
}