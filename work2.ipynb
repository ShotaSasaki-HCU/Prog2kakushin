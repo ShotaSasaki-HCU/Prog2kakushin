{
  "nbformat": 4,
  "nbformat_minor": 0,
  "metadata": {
    "colab": {
      "provenance": [],
      "authorship_tag": "ABX9TyOeRndf51X7x38hTkBT1MjU",
      "include_colab_link": true
    },
    "kernelspec": {
      "name": "python3",
      "display_name": "Python 3"
    },
    "language_info": {
      "name": "python"
    }
  },
  "cells": [
    {
      "cell_type": "markdown",
      "metadata": {
        "id": "view-in-github",
        "colab_type": "text"
      },
      "source": [
        "<a href=\"https://colab.research.google.com/github/ShotaSasaki-HCU/Prog2kakushin/blob/main/work2.ipynb\" target=\"_parent\"><img src=\"https://colab.research.google.com/assets/colab-badge.svg\" alt=\"Open In Colab\"/></a>"
      ]
    },
    {
      "cell_type": "code",
      "execution_count": null,
      "metadata": {
        "id": "1RMa5mT6E9ZI"
      },
      "outputs": [],
      "source": [
        "# Numpyの練習\n",
        "# Improved 2D Phased Array Simulator\n",
        "\n",
        "import numpy as np\n",
        "\n",
        "range_x_R = 1 # x軸方向レンジ右(mm)\n",
        "range_x_L = -1 # x軸方向レンジ左(mm)\n",
        "range_y_T = 1 # y軸方向レンジ上(mm)\n",
        "range_y_B = -1 # y軸方向レンジ下(mm)\n",
        "calc_width = 1 # 計算幅(mm)\n",
        "tr_num = 5 # 送信素子数（個）\n",
        "tr_directivity = 95 # 送信素子指向性（度）\n",
        "tr_clearance = 8 # 送信素子間隔(mm)\n",
        "beam_direction = np.pi / 2 # 合成波の指向方向(rad)\n"
      ]
    }
  ]
}