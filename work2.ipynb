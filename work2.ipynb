{
  "nbformat": 4,
  "nbformat_minor": 0,
  "metadata": {
    "colab": {
      "provenance": [],
      "authorship_tag": "ABX9TyMxWbLBDlBlQEemDpjncX15",
      "include_colab_link": true
    },
    "kernelspec": {
      "name": "python3",
      "display_name": "Python 3"
    },
    "language_info": {
      "name": "python"
    }
  },
  "cells": [
    {
      "cell_type": "markdown",
      "metadata": {
        "id": "view-in-github",
        "colab_type": "text"
      },
      "source": [
        "<a href=\"https://colab.research.google.com/github/ShotaSasaki-HCU/Prog2kakushin/blob/main/work2.ipynb\" target=\"_parent\"><img src=\"https://colab.research.google.com/assets/colab-badge.svg\" alt=\"Open In Colab\"/></a>"
      ]
    },
    {
      "cell_type": "code",
      "execution_count": 52,
      "metadata": {
        "id": "1RMa5mT6E9ZI",
        "colab": {
          "base_uri": "https://localhost:8080/",
          "height": 471
        },
        "outputId": "24f4fb3b-f1bd-4f56-b47a-c88ecdab6b80"
      },
      "outputs": [
        {
          "output_type": "display_data",
          "data": {
            "text/plain": [
              "<Figure size 640x480 with 2 Axes>"
            ],
            "image/png": "[encoded data removed]"
          },
          "metadata": {}
        },
        {
          "output_type": "stream",
          "name": "stdout",
          "text": [
            "(101, 61)\n",
            "24644\n"
          ]
        }
      ],
      "source": [
        "# Numpyの練習\n",
        "# 2D Phased Array Simulator\n",
        "\n",
        "import numpy as np\n",
        "from matplotlib import pyplot as plt\n",
        "\n",
        "range_x_R = 50 # x軸方向レンジ右(mm)\n",
        "range_x_L = -50 # x軸方向レンジ左(mm)\n",
        "range_y_T = 50 # y軸方向レンジ上(mm)\n",
        "range_y_B = -10 # y軸方向レンジ下(mm)\n",
        "calc_width = 1.0 # 計算幅(mm)\n",
        "\n",
        "A = 1 # 送信波の振幅\n",
        "f = 40000 # 送信波の周波数(Hz)\n",
        "t = 0.0 # 時間(s)\n",
        "v = 340.29 * 1000 # 送信波の速さ(mm/s)\n",
        "\n",
        "tr_num = 4 # 送信素子数（個）\n",
        "tr_directivity = np.deg2rad(95) # 送信素子指向性(rad)\n",
        "tr_clearance = v / f # 送信素子間隔(mm)\n",
        "tr_x_coord = [] # 送信素子のx座標（y座標は0で固定）\n",
        "\n",
        "beam_direction = np.pi / 2 # 合成波の指向方向(rad)\n",
        "\n",
        "# 指定されたレンジを満たす（必要最小限は超える）Numpy２次元配列を0埋めで作成する。\n",
        "sim_result = np.zeros((int(np.ceil((range_y_T - range_y_B + 1) / calc_width)), int(np.ceil((range_x_R - range_x_L + 1) / calc_width))))\n",
        "\n",
        "# 送信素子をx軸上に原点が中心となる様に配置する。それらの座標を計算してtr_x_coordに格納する。\n",
        "if (tr_num % 2) == 1: # 送信素子数が奇数個のとき\n",
        "  for n in range(0, tr_num):\n",
        "    tr_x_coord.append(-((tr_num // 2) * tr_clearance) + (n * tr_clearance))\n",
        "else: # 送信素子数が偶数個のとき\n",
        "  for n in range(0, tr_num):\n",
        "    tr_x_coord.append(-(((tr_num // 2) * tr_clearance) - (tr_clearance / 2)) + (n * tr_clearance))\n",
        "\n",
        "calc_x = range_x_L # 計算するx座標を初期化\n",
        "calc_y = range_y_T # 計算するy座標を初期化\n",
        "row = 0 # 行インデックス初期化\n",
        "column = 0 # 列インデックス初期化\n",
        "for num in range(0, tr_num): # 送信素子それぞれについて左端から順次計算していく。\n",
        "  phase_diff = num * tr_clearance * np.sin(beam_direction - (np.pi / 2)) # 位相差\n",
        "  while calc_y > (range_y_B - calc_width):\n",
        "    while calc_x < (range_x_R + calc_width):\n",
        "      vec = np.array([calc_x, calc_y]) - np.array([tr_x_coord[num], 0]) # (計算座標) - (送信素子の座標)\n",
        "      from_tr = np.arctan2(vec[0], vec[1]) # 送信素子から見た計算座標の向き（y軸が0(rad)で、時計回りが正・反時計回りが負となる。）\n",
        "      if np.abs(from_tr) <= (tr_directivity / 2): # 計算座標が送信素子の指向性の範囲に入っている場合\n",
        "        sim_result[row][column] += A * np.sin(2 * np.pi * f * (t - (np.linalg.norm(vec) / v)) - phase_diff)\n",
        "      calc_x += calc_width # 次の計算座標へ（x軸の正方向へ）\n",
        "      column += 1\n",
        "    calc_x = range_x_L # 計算するx座標を初期化\n",
        "    column = 0 # 列インデックス初期化\n",
        "    calc_y -= calc_width # 次の計算座標へ（y軸の負方向へ）\n",
        "    row += 1\n",
        "  calc_y = range_y_T # 計算するy座標を初期化\n",
        "  row = 0 # 行インデックス初期化\n",
        "\n",
        "fig, ax = plt.subplots()\n",
        "im = ax.imshow(sim_result, cmap='rainbow', aspect='equal', vmin=-tr_num, vmax=tr_num)\n",
        "plt.colorbar(im)\n",
        "plt.show()"
      ]
    }
  ]
}